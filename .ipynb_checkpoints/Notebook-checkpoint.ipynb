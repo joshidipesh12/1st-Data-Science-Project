{
 "cells": [
  {
   "cell_type": "code",
   "execution_count": null,
   "metadata": {
    "colab": {},
    "colab_type": "code",
    "id": "78Thh5CZ9tmX"
   },
   "outputs": [],
   "source": [
    "import pandas as pd\n",
    "import numpy as np"
   ]
  },
  {
   "cell_type": "code",
   "execution_count": null,
   "metadata": {
    "colab": {},
    "colab_type": "code",
    "id": "DXBa1ndDRjWQ"
   },
   "outputs": [],
   "source": [
    "from sklearn.metrics import mean_absolute_error\n",
    "from sklearn.model_selection import train_test_split\n",
    "from sklearn.ensemble import RandomForestRegressor\n",
    "from sklearn.tree import DecisionTreeRegressor\n",
    "from sklearn.preprocessing import LabelEncoder"
   ]
  },
  {
   "cell_type": "code",
   "execution_count": null,
   "metadata": {
    "colab": {},
    "colab_type": "code",
    "id": "TkRzHV68-43b"
   },
   "outputs": [],
   "source": [
    "df=pd.read_csv(r'/content/drive/My Drive/Colab Notebooks/Project1 Titanic/train.csv')\n",
    "test=pd.read_csv(r'/content/drive/My Drive/Colab Notebooks/Project1 Titanic/test.csv')"
   ]
  },
  {
   "cell_type": "code",
   "execution_count": null,
   "metadata": {
    "colab": {},
    "colab_type": "code",
    "id": "HofvAWhp_Fg6"
   },
   "outputs": [],
   "source": []
  },
  {
   "cell_type": "code",
   "execution_count": null,
   "metadata": {
    "colab": {
     "base_uri": "https://localhost:8080/",
     "height": 867
    },
    "colab_type": "code",
    "executionInfo": {
     "elapsed": 3860,
     "status": "ok",
     "timestamp": 1594543686249,
     "user": {
      "displayName": "dipesh joshi",
      "photoUrl": "https://lh3.googleusercontent.com/a-/AOh14GjUigpEAAOp2xjmr4Tr9br-wQRdqPmGNwgZbK3LgUE=s64",
      "userId": "06750728439165467537"
     },
     "user_tz": -330
    },
    "id": "3B7zGE-U_j9J",
    "outputId": "1ddd4969-50c3-46bd-d012-9730d6c5bb1d"
   },
   "outputs": [
    {
     "data": {
      "text/html": [
       "<div>\n",
       "<style scoped>\n",
       "    .dataframe tbody tr th:only-of-type {\n",
       "        vertical-align: middle;\n",
       "    }\n",
       "\n",
       "    .dataframe tbody tr th {\n",
       "        vertical-align: top;\n",
       "    }\n",
       "\n",
       "    .dataframe thead th {\n",
       "        text-align: right;\n",
       "    }\n",
       "</style>\n",
       "<table border=\"1\" class=\"dataframe\">\n",
       "  <thead>\n",
       "    <tr style=\"text-align: right;\">\n",
       "      <th></th>\n",
       "      <th>PassengerId</th>\n",
       "      <th>Survived</th>\n",
       "      <th>Pclass</th>\n",
       "      <th>Name</th>\n",
       "      <th>Sex</th>\n",
       "      <th>Age</th>\n",
       "      <th>SibSp</th>\n",
       "      <th>Parch</th>\n",
       "      <th>Ticket</th>\n",
       "      <th>Fare</th>\n",
       "      <th>Cabin</th>\n",
       "      <th>Embarked</th>\n",
       "    </tr>\n",
       "  </thead>\n",
       "  <tbody>\n",
       "    <tr>\n",
       "      <th>0</th>\n",
       "      <td>1</td>\n",
       "      <td>0</td>\n",
       "      <td>3</td>\n",
       "      <td>Braund, Mr. Owen Harris</td>\n",
       "      <td>male</td>\n",
       "      <td>22.0</td>\n",
       "      <td>1</td>\n",
       "      <td>0</td>\n",
       "      <td>A/5 21171</td>\n",
       "      <td>7.2500</td>\n",
       "      <td>NaN</td>\n",
       "      <td>S</td>\n",
       "    </tr>\n",
       "    <tr>\n",
       "      <th>1</th>\n",
       "      <td>2</td>\n",
       "      <td>1</td>\n",
       "      <td>1</td>\n",
       "      <td>Cumings, Mrs. John Bradley (Florence Briggs Th...</td>\n",
       "      <td>female</td>\n",
       "      <td>38.0</td>\n",
       "      <td>1</td>\n",
       "      <td>0</td>\n",
       "      <td>PC 17599</td>\n",
       "      <td>71.2833</td>\n",
       "      <td>C85</td>\n",
       "      <td>C</td>\n",
       "    </tr>\n",
       "    <tr>\n",
       "      <th>2</th>\n",
       "      <td>3</td>\n",
       "      <td>1</td>\n",
       "      <td>3</td>\n",
       "      <td>Heikkinen, Miss. Laina</td>\n",
       "      <td>female</td>\n",
       "      <td>26.0</td>\n",
       "      <td>0</td>\n",
       "      <td>0</td>\n",
       "      <td>STON/O2. 3101282</td>\n",
       "      <td>7.9250</td>\n",
       "      <td>NaN</td>\n",
       "      <td>S</td>\n",
       "    </tr>\n",
       "    <tr>\n",
       "      <th>3</th>\n",
       "      <td>4</td>\n",
       "      <td>1</td>\n",
       "      <td>1</td>\n",
       "      <td>Futrelle, Mrs. Jacques Heath (Lily May Peel)</td>\n",
       "      <td>female</td>\n",
       "      <td>35.0</td>\n",
       "      <td>1</td>\n",
       "      <td>0</td>\n",
       "      <td>113803</td>\n",
       "      <td>53.1000</td>\n",
       "      <td>C123</td>\n",
       "      <td>S</td>\n",
       "    </tr>\n",
       "    <tr>\n",
       "      <th>4</th>\n",
       "      <td>5</td>\n",
       "      <td>0</td>\n",
       "      <td>3</td>\n",
       "      <td>Allen, Mr. William Henry</td>\n",
       "      <td>male</td>\n",
       "      <td>35.0</td>\n",
       "      <td>0</td>\n",
       "      <td>0</td>\n",
       "      <td>373450</td>\n",
       "      <td>8.0500</td>\n",
       "      <td>NaN</td>\n",
       "      <td>S</td>\n",
       "    </tr>\n",
       "    <tr>\n",
       "      <th>6</th>\n",
       "      <td>7</td>\n",
       "      <td>0</td>\n",
       "      <td>1</td>\n",
       "      <td>McCarthy, Mr. Timothy J</td>\n",
       "      <td>male</td>\n",
       "      <td>54.0</td>\n",
       "      <td>0</td>\n",
       "      <td>0</td>\n",
       "      <td>17463</td>\n",
       "      <td>51.8625</td>\n",
       "      <td>E46</td>\n",
       "      <td>S</td>\n",
       "    </tr>\n",
       "    <tr>\n",
       "      <th>7</th>\n",
       "      <td>8</td>\n",
       "      <td>0</td>\n",
       "      <td>3</td>\n",
       "      <td>Palsson, Master. Gosta Leonard</td>\n",
       "      <td>male</td>\n",
       "      <td>2.0</td>\n",
       "      <td>3</td>\n",
       "      <td>1</td>\n",
       "      <td>349909</td>\n",
       "      <td>21.0750</td>\n",
       "      <td>NaN</td>\n",
       "      <td>S</td>\n",
       "    </tr>\n",
       "    <tr>\n",
       "      <th>8</th>\n",
       "      <td>9</td>\n",
       "      <td>1</td>\n",
       "      <td>3</td>\n",
       "      <td>Johnson, Mrs. Oscar W (Elisabeth Vilhelmina Berg)</td>\n",
       "      <td>female</td>\n",
       "      <td>27.0</td>\n",
       "      <td>0</td>\n",
       "      <td>2</td>\n",
       "      <td>347742</td>\n",
       "      <td>11.1333</td>\n",
       "      <td>NaN</td>\n",
       "      <td>S</td>\n",
       "    </tr>\n",
       "    <tr>\n",
       "      <th>9</th>\n",
       "      <td>10</td>\n",
       "      <td>1</td>\n",
       "      <td>2</td>\n",
       "      <td>Nasser, Mrs. Nicholas (Adele Achem)</td>\n",
       "      <td>female</td>\n",
       "      <td>14.0</td>\n",
       "      <td>1</td>\n",
       "      <td>0</td>\n",
       "      <td>237736</td>\n",
       "      <td>30.0708</td>\n",
       "      <td>NaN</td>\n",
       "      <td>C</td>\n",
       "    </tr>\n",
       "    <tr>\n",
       "      <th>10</th>\n",
       "      <td>11</td>\n",
       "      <td>1</td>\n",
       "      <td>3</td>\n",
       "      <td>Sandstrom, Miss. Marguerite Rut</td>\n",
       "      <td>female</td>\n",
       "      <td>4.0</td>\n",
       "      <td>1</td>\n",
       "      <td>1</td>\n",
       "      <td>PP 9549</td>\n",
       "      <td>16.7000</td>\n",
       "      <td>G6</td>\n",
       "      <td>S</td>\n",
       "    </tr>\n",
       "  </tbody>\n",
       "</table>\n",
       "</div>"
      ],
      "text/plain": [
       "    PassengerId  Survived  Pclass  ...     Fare Cabin  Embarked\n",
       "0             1         0       3  ...   7.2500   NaN         S\n",
       "1             2         1       1  ...  71.2833   C85         C\n",
       "2             3         1       3  ...   7.9250   NaN         S\n",
       "3             4         1       1  ...  53.1000  C123         S\n",
       "4             5         0       3  ...   8.0500   NaN         S\n",
       "6             7         0       1  ...  51.8625   E46         S\n",
       "7             8         0       3  ...  21.0750   NaN         S\n",
       "8             9         1       3  ...  11.1333   NaN         S\n",
       "9            10         1       2  ...  30.0708   NaN         C\n",
       "10           11         1       3  ...  16.7000    G6         S\n",
       "\n",
       "[10 rows x 12 columns]"
      ]
     },
     "execution_count": 4,
     "metadata": {
      "tags": []
     },
     "output_type": "execute_result"
    }
   ],
   "source": [
    "df.head(10)"
   ]
  },
  {
   "cell_type": "code",
   "execution_count": null,
   "metadata": {
    "colab": {},
    "colab_type": "code",
    "id": "w8GVcEng_oPK"
   },
   "outputs": [],
   "source": []
  },
  {
   "cell_type": "code",
   "execution_count": null,
   "metadata": {
    "colab": {
     "base_uri": "https://localhost:8080/",
     "height": 304
    },
    "colab_type": "code",
    "executionInfo": {
     "elapsed": 5685,
     "status": "ok",
     "timestamp": 1594457250726,
     "user": {
      "displayName": "dipesh joshi",
      "photoUrl": "https://lh3.googleusercontent.com/a-/AOh14GjUigpEAAOp2xjmr4Tr9br-wQRdqPmGNwgZbK3LgUE=s64",
      "userId": "06750728439165467537"
     },
     "user_tz": -330
    },
    "id": "yeODR9PS_qJk",
    "outputId": "8d3b1c59-bcc6-44c5-e1d3-2f225b4da9e4"
   },
   "outputs": [
    {
     "data": {
      "text/html": [
       "<div>\n",
       "<style scoped>\n",
       "    .dataframe tbody tr th:only-of-type {\n",
       "        vertical-align: middle;\n",
       "    }\n",
       "\n",
       "    .dataframe tbody tr th {\n",
       "        vertical-align: top;\n",
       "    }\n",
       "\n",
       "    .dataframe thead th {\n",
       "        text-align: right;\n",
       "    }\n",
       "</style>\n",
       "<table border=\"1\" class=\"dataframe\">\n",
       "  <thead>\n",
       "    <tr style=\"text-align: right;\">\n",
       "      <th></th>\n",
       "      <th>PassengerId</th>\n",
       "      <th>Survived</th>\n",
       "      <th>Pclass</th>\n",
       "      <th>Age</th>\n",
       "      <th>SibSp</th>\n",
       "      <th>Parch</th>\n",
       "      <th>Fare</th>\n",
       "    </tr>\n",
       "  </thead>\n",
       "  <tbody>\n",
       "    <tr>\n",
       "      <th>count</th>\n",
       "      <td>714.000000</td>\n",
       "      <td>714.000000</td>\n",
       "      <td>714.000000</td>\n",
       "      <td>714.000000</td>\n",
       "      <td>714.000000</td>\n",
       "      <td>714.000000</td>\n",
       "      <td>714.000000</td>\n",
       "    </tr>\n",
       "    <tr>\n",
       "      <th>mean</th>\n",
       "      <td>448.582633</td>\n",
       "      <td>0.406162</td>\n",
       "      <td>2.236695</td>\n",
       "      <td>29.699118</td>\n",
       "      <td>0.512605</td>\n",
       "      <td>0.431373</td>\n",
       "      <td>34.694514</td>\n",
       "    </tr>\n",
       "    <tr>\n",
       "      <th>std</th>\n",
       "      <td>259.119524</td>\n",
       "      <td>0.491460</td>\n",
       "      <td>0.838250</td>\n",
       "      <td>14.526497</td>\n",
       "      <td>0.929783</td>\n",
       "      <td>0.853289</td>\n",
       "      <td>52.918930</td>\n",
       "    </tr>\n",
       "    <tr>\n",
       "      <th>min</th>\n",
       "      <td>1.000000</td>\n",
       "      <td>0.000000</td>\n",
       "      <td>1.000000</td>\n",
       "      <td>0.420000</td>\n",
       "      <td>0.000000</td>\n",
       "      <td>0.000000</td>\n",
       "      <td>0.000000</td>\n",
       "    </tr>\n",
       "    <tr>\n",
       "      <th>25%</th>\n",
       "      <td>222.250000</td>\n",
       "      <td>0.000000</td>\n",
       "      <td>1.000000</td>\n",
       "      <td>20.125000</td>\n",
       "      <td>0.000000</td>\n",
       "      <td>0.000000</td>\n",
       "      <td>8.050000</td>\n",
       "    </tr>\n",
       "    <tr>\n",
       "      <th>50%</th>\n",
       "      <td>445.000000</td>\n",
       "      <td>0.000000</td>\n",
       "      <td>2.000000</td>\n",
       "      <td>28.000000</td>\n",
       "      <td>0.000000</td>\n",
       "      <td>0.000000</td>\n",
       "      <td>15.741700</td>\n",
       "    </tr>\n",
       "    <tr>\n",
       "      <th>75%</th>\n",
       "      <td>677.750000</td>\n",
       "      <td>1.000000</td>\n",
       "      <td>3.000000</td>\n",
       "      <td>38.000000</td>\n",
       "      <td>1.000000</td>\n",
       "      <td>1.000000</td>\n",
       "      <td>33.375000</td>\n",
       "    </tr>\n",
       "    <tr>\n",
       "      <th>max</th>\n",
       "      <td>891.000000</td>\n",
       "      <td>1.000000</td>\n",
       "      <td>3.000000</td>\n",
       "      <td>80.000000</td>\n",
       "      <td>5.000000</td>\n",
       "      <td>6.000000</td>\n",
       "      <td>512.329200</td>\n",
       "    </tr>\n",
       "  </tbody>\n",
       "</table>\n",
       "</div>"
      ],
      "text/plain": [
       "       PassengerId    Survived      Pclass  ...       SibSp       Parch        Fare\n",
       "count   714.000000  714.000000  714.000000  ...  714.000000  714.000000  714.000000\n",
       "mean    448.582633    0.406162    2.236695  ...    0.512605    0.431373   34.694514\n",
       "std     259.119524    0.491460    0.838250  ...    0.929783    0.853289   52.918930\n",
       "min       1.000000    0.000000    1.000000  ...    0.000000    0.000000    0.000000\n",
       "25%     222.250000    0.000000    1.000000  ...    0.000000    0.000000    8.050000\n",
       "50%     445.000000    0.000000    2.000000  ...    0.000000    0.000000   15.741700\n",
       "75%     677.750000    1.000000    3.000000  ...    1.000000    1.000000   33.375000\n",
       "max     891.000000    1.000000    3.000000  ...    5.000000    6.000000  512.329200\n",
       "\n",
       "[8 rows x 7 columns]"
      ]
     },
     "execution_count": 4,
     "metadata": {
      "tags": []
     },
     "output_type": "execute_result"
    }
   ],
   "source": [
    "df.describe()\n"
   ]
  },
  {
   "cell_type": "code",
   "execution_count": null,
   "metadata": {
    "colab": {},
    "colab_type": "code",
    "id": "_jkS_ANWAEGe"
   },
   "outputs": [],
   "source": [
    "# Numerical Variables: PassengerId, Age, Sibsp, Parch, Ticket, Fare, Cabin\n",
    "# Categorical variables: Survival, Pclass, Sex, Embarked"
   ]
  },
  {
   "cell_type": "code",
   "execution_count": null,
   "metadata": {
    "colab": {},
    "colab_type": "code",
    "id": "-qd6wt58AW56"
   },
   "outputs": [],
   "source": [
    "#Correlation B/w numerical Variables"
   ]
  },
  {
   "cell_type": "code",
   "execution_count": null,
   "metadata": {
    "colab": {},
    "colab_type": "code",
    "id": "9n_ZxFjq9F1R"
   },
   "outputs": [],
   "source": [
    "import matplotlib.pyplot as plt"
   ]
  },
  {
   "cell_type": "code",
   "execution_count": null,
   "metadata": {
    "colab": {
     "base_uri": "https://localhost:8080/",
     "height": 336
    },
    "colab_type": "code",
    "executionInfo": {
     "elapsed": 3363,
     "status": "ok",
     "timestamp": 1591363356298,
     "user": {
      "displayName": "dipesh joshi",
      "photoUrl": "https://lh3.googleusercontent.com/a-/AOh14GjUigpEAAOp2xjmr4Tr9br-wQRdqPmGNwgZbK3LgUE=s64",
      "userId": "06750728439165467537"
     },
     "user_tz": -330
    },
    "id": "ZoyYNK2S-wJE",
    "outputId": "7c4327bc-4afb-4b65-9f05-26e7250dcdf6"
   },
   "outputs": [
    {
     "data": {
      "image/png": "[encoded data removed]",
      "text/plain": [
       "<Figure size 720x360 with 4 Axes>"
      ]
     },
     "metadata": {
      "needs_background": "light",
      "tags": []
     },
     "output_type": "display_data"
    }
   ],
   "source": [
    "fig,axs=plt.subplots(2,2, figsize=(10,5))\n",
    "\n",
    "axs[0,0].hist(df['Age'],20)\n",
    "axs[0,0].set_title('Age')\n",
    "axs[0,0].set_ylabel('Count')\n",
    "\n",
    "axs[0,1].hist(df['SibSp'],20)\n",
    "axs[0,1].set_title('SibSp')\n",
    "axs[0,1].set_ylabel('Count')\n",
    "\n",
    "axs[1,1].hist(df['Parch'],20)\n",
    "axs[1,1].set_title('Parch')\n",
    "axs[1,1].set_ylabel('Count')\n",
    "\n",
    "axs[1,0].hist(df['Fare'],20)\n",
    "axs[1,0].set_title('Fare')\n",
    "axs[1,0].set_ylabel('Count')\n",
    "\n",
    "plt.show()"
   ]
  },
  {
   "cell_type": "code",
   "execution_count": null,
   "metadata": {
    "colab": {},
    "colab_type": "code",
    "id": "KYcXuMIa_PjB"
   },
   "outputs": [],
   "source": [
    "#Outcomes:\n",
    "# Passenger are mostly 20 to 30 years old\n",
    "#Most tickets fare was less than 50"
   ]
  },
  {
   "cell_type": "code",
   "execution_count": null,
   "metadata": {
    "colab": {},
    "colab_type": "code",
    "id": "MsGsYlHm4unC"
   },
   "outputs": [],
   "source": [
    "#Relation b/w categorical variables"
   ]
  },
  {
   "cell_type": "code",
   "execution_count": null,
   "metadata": {
    "colab": {
     "base_uri": "https://localhost:8080/",
     "height": 350
    },
    "colab_type": "code",
    "executionInfo": {
     "elapsed": 4752,
     "status": "ok",
     "timestamp": 1591363357775,
     "user": {
      "displayName": "dipesh joshi",
      "photoUrl": "https://lh3.googleusercontent.com/a-/AOh14GjUigpEAAOp2xjmr4Tr9br-wQRdqPmGNwgZbK3LgUE=s64",
      "userId": "06750728439165467537"
     },
     "user_tz": -330
    },
    "id": "4zsXhR4pDqk-",
    "outputId": "183186fa-39c1-46ff-9a3a-b96b6b946b08"
   },
   "outputs": [
    {
     "data": {
      "image/png": "[encoded data removed]",
      "text/plain": [
       "<Figure size 720x360 with 4 Axes>"
      ]
     },
     "metadata": {
      "needs_background": "light",
      "tags": []
     },
     "output_type": "display_data"
    }
   ],
   "source": [
    "fig,ax1=plt.subplots(2,2, figsize=(10,5))\n",
    "\n",
    "div1=['yes','no']\n",
    "val1=[df['Survived'].value_counts()[1],df['Survived'].value_counts()[0]]\n",
    "ax1[0,0].bar(div1,val1)\n",
    "ax1[0,0].set_title('Survived')\n",
    "\n",
    "div2=['1st','2nd','3rd']\n",
    "val2=[df['Pclass'].value_counts()[1],df['Pclass'].value_counts()[2],df['Pclass'].value_counts()[3]]\n",
    "ax1[0,1].bar(div2,val2)\n",
    "ax1[0,1].set_title('Pclass')\n",
    "\n",
    "div3=['Male','Female']\n",
    "val3=[df['Sex'].value_counts()['male'],df['Sex'].value_counts()['female']]\n",
    "ax1[1,0].bar(div3,val3)\n",
    "ax1[1,0].set_xlabel('Sex')\n",
    "\n",
    "div4=['C','Q','S']\n",
    "val4=[df['Embarked'].value_counts()['C'],df['Embarked'].value_counts()['Q'],df['Embarked'].value_counts()['S']]\n",
    "ax1[1,1].bar(div4,val4)\n",
    "ax1[1,1].set_xlabel('Embarked')\n",
    "\n",
    "plt.show()"
   ]
  },
  {
   "cell_type": "code",
   "execution_count": null,
   "metadata": {
    "colab": {},
    "colab_type": "code",
    "id": "w6Lrpd8JEHdF"
   },
   "outputs": [],
   "source": [
    "# Relation b/w sex and Survival (Bonus)"
   ]
  },
  {
   "cell_type": "code",
   "execution_count": null,
   "metadata": {
    "colab": {
     "base_uri": "https://localhost:8080/",
     "height": 338
    },
    "colab_type": "code",
    "executionInfo": {
     "elapsed": 4690,
     "status": "ok",
     "timestamp": 1591363357785,
     "user": {
      "displayName": "dipesh joshi",
      "photoUrl": "https://lh3.googleusercontent.com/a-/AOh14GjUigpEAAOp2xjmr4Tr9br-wQRdqPmGNwgZbK3LgUE=s64",
      "userId": "06750728439165467537"
     },
     "user_tz": -330
    },
    "id": "kVr4NsgfP6Ey",
    "outputId": "d2b3e992-d311-4ceb-d42d-d4afc1eaeb6c"
   },
   "outputs": [
    {
     "data": {
      "image/png": "[encoded data removed]",
      "text/plain": [
       "<Figure size 720x360 with 4 Axes>"
      ]
     },
     "metadata": {
      "needs_background": "light",
      "tags": []
     },
     "output_type": "display_data"
    },
    {
     "data": {
      "text/plain": [
       "<Figure size 504x360 with 0 Axes>"
      ]
     },
     "metadata": {
      "tags": []
     },
     "output_type": "display_data"
    }
   ],
   "source": [
    "fig,ax2=plt.subplots(2,2, figsize=(10,5))\n",
    "\n",
    "# Male and Female\n",
    "sex_survived=df['Sex'].where(df['Survived']==1).dropna()\n",
    "div1=['Male','Female']\n",
    "val1=[sex_survived.value_counts()['male'],sex_survived.value_counts()['female']]\n",
    "ax2[0,0].bar(div1,val1,label='Survived',color='green')\n",
    "\n",
    "sex_not_survived=df['Sex'].where(df['Survived']==0).dropna()\n",
    "val11=[sex_not_survived.value_counts()['male'],sex_not_survived.value_counts()['female']]\n",
    "ax2[0,0].bar(div1,val11,label='Died',color='red',bottom=val1)\n",
    "\n",
    "ax2[0,0].set_ylabel('Sex')\n",
    "ax2[0,0].legend()\n",
    "\n",
    "# Passenger Class\n",
    "pc_survived=df['Pclass'].where(df['Survived']==1).dropna()\n",
    "div2=['1st','2nd','3rd']\n",
    "val2=[pc_survived.value_counts()[1],pc_survived.value_counts()[2],pc_survived.value_counts()[3]]\n",
    "ax2[0,1].bar(div2,val2,label='Survived',color='green')\n",
    "\n",
    "pc_not_survived=df['Pclass'].where(df['Survived']==0).dropna()\n",
    "val22=[pc_not_survived.value_counts()[1],pc_not_survived.value_counts()[2],pc_not_survived.value_counts()[3]]\n",
    "ax2[0,1].bar(div2,val22,label='Died',color='red',bottom=val2)\n",
    "\n",
    "ax2[0,1].set_ylabel('Pclass')\n",
    "ax2[0,1].legend()\n",
    "\n",
    "# Embarkment\n",
    "em_survived=df['Embarked'].where(df['Survived']==1).dropna()\n",
    "div3=['C','Q','S']\n",
    "val3=[em_survived.value_counts()['C'],em_survived.value_counts()['Q'],em_survived.value_counts()['S']]\n",
    "ax2[1,0].bar(div3,val3,label='Survived',color='green')\n",
    "\n",
    "em_not_survived=df['Embarked'].where(df['Survived']==0).dropna()\n",
    "val33=[em_not_survived.value_counts()['C'],em_not_survived.value_counts()['Q'],em_not_survived.value_counts()['S']]\n",
    "ax2[1,0].bar(div3,val33,label='Died',color='red',bottom=val3)\n",
    "\n",
    "ax2[1,0].set_ylabel('Embarked')\n",
    "ax2[1,0].legend()\n",
    "\n",
    "\n",
    "plt.figure(figsize=(7,5))\n",
    "plt.show()"
   ]
  },
  {
   "cell_type": "code",
   "execution_count": null,
   "metadata": {
    "colab": {
     "base_uri": "https://localhost:8080/",
     "height": 53
    },
    "colab_type": "code",
    "executionInfo": {
     "elapsed": 4659,
     "status": "ok",
     "timestamp": 1591363357788,
     "user": {
      "displayName": "dipesh joshi",
      "photoUrl": "https://lh3.googleusercontent.com/a-/AOh14GjUigpEAAOp2xjmr4Tr9br-wQRdqPmGNwgZbK3LgUE=s64",
      "userId": "06750728439165467537"
     },
     "user_tz": -330
    },
    "id": "nvlFqmPrSKX-",
    "outputId": "99bcad74-199a-4828-d74f-eb77a31e692f"
   },
   "outputs": [
    {
     "name": "stdout",
     "output_type": "stream",
     "text": [
      "Number of Males Survived:  93\n",
      "Number of Females Survived:  197\n"
     ]
    }
   ],
   "source": [
    "print('Number of Males Survived: ',sex_survived.value_counts()['male'])\n",
    "print('Number of Females Survived: ',sex_survived.value_counts()['female'])"
   ]
  },
  {
   "cell_type": "code",
   "execution_count": null,
   "metadata": {
    "colab": {},
    "colab_type": "code",
    "id": "UEkdFdYuyI_D"
   },
   "outputs": [],
   "source": [
    "import seaborn as sns\n",
    "import numpy as np"
   ]
  },
  {
   "cell_type": "code",
   "execution_count": null,
   "metadata": {
    "colab": {
     "base_uri": "https://localhost:8080/",
     "height": 257
    },
    "colab_type": "code",
    "executionInfo": {
     "elapsed": 4596,
     "status": "ok",
     "timestamp": 1591363357794,
     "user": {
      "displayName": "dipesh joshi",
      "photoUrl": "https://lh3.googleusercontent.com/a-/AOh14GjUigpEAAOp2xjmr4Tr9br-wQRdqPmGNwgZbK3LgUE=s64",
      "userId": "06750728439165467537"
     },
     "user_tz": -330
    },
    "id": "QKj107_jjgiH",
    "outputId": "821bb7d8-4e4e-4101-d3b4-755ebba625b0"
   },
   "outputs": [
    {
     "data": {
      "text/html": [
       "<div>\n",
       "<style scoped>\n",
       "    .dataframe tbody tr th:only-of-type {\n",
       "        vertical-align: middle;\n",
       "    }\n",
       "\n",
       "    .dataframe tbody tr th {\n",
       "        vertical-align: top;\n",
       "    }\n",
       "\n",
       "    .dataframe thead th {\n",
       "        text-align: right;\n",
       "    }\n",
       "</style>\n",
       "<table border=\"1\" class=\"dataframe\">\n",
       "  <thead>\n",
       "    <tr style=\"text-align: right;\">\n",
       "      <th></th>\n",
       "      <th>Age</th>\n",
       "      <th>SibSp</th>\n",
       "      <th>Parch</th>\n",
       "      <th>Fare</th>\n",
       "    </tr>\n",
       "  </thead>\n",
       "  <tbody>\n",
       "    <tr>\n",
       "      <th>0</th>\n",
       "      <td>22.0</td>\n",
       "      <td>1</td>\n",
       "      <td>0</td>\n",
       "      <td>7.2500</td>\n",
       "    </tr>\n",
       "    <tr>\n",
       "      <th>1</th>\n",
       "      <td>38.0</td>\n",
       "      <td>1</td>\n",
       "      <td>0</td>\n",
       "      <td>71.2833</td>\n",
       "    </tr>\n",
       "    <tr>\n",
       "      <th>2</th>\n",
       "      <td>26.0</td>\n",
       "      <td>0</td>\n",
       "      <td>0</td>\n",
       "      <td>7.9250</td>\n",
       "    </tr>\n",
       "    <tr>\n",
       "      <th>3</th>\n",
       "      <td>35.0</td>\n",
       "      <td>1</td>\n",
       "      <td>0</td>\n",
       "      <td>53.1000</td>\n",
       "    </tr>\n",
       "    <tr>\n",
       "      <th>4</th>\n",
       "      <td>35.0</td>\n",
       "      <td>0</td>\n",
       "      <td>0</td>\n",
       "      <td>8.0500</td>\n",
       "    </tr>\n",
       "    <tr>\n",
       "      <th>6</th>\n",
       "      <td>54.0</td>\n",
       "      <td>0</td>\n",
       "      <td>0</td>\n",
       "      <td>51.8625</td>\n",
       "    </tr>\n",
       "    <tr>\n",
       "      <th>7</th>\n",
       "      <td>2.0</td>\n",
       "      <td>3</td>\n",
       "      <td>1</td>\n",
       "      <td>21.0750</td>\n",
       "    </tr>\n",
       "  </tbody>\n",
       "</table>\n",
       "</div>"
      ],
      "text/plain": [
       "    Age  SibSp  Parch     Fare\n",
       "0  22.0      1      0   7.2500\n",
       "1  38.0      1      0  71.2833\n",
       "2  26.0      0      0   7.9250\n",
       "3  35.0      1      0  53.1000\n",
       "4  35.0      0      0   8.0500\n",
       "6  54.0      0      0  51.8625\n",
       "7   2.0      3      1  21.0750"
      ]
     },
     "execution_count": 18,
     "metadata": {
      "tags": []
     },
     "output_type": "execute_result"
    }
   ],
   "source": [
    "dat=df[['Age','SibSp','Parch','Fare']]\n",
    "dat.head(7)"
   ]
  },
  {
   "cell_type": "code",
   "execution_count": null,
   "metadata": {
    "colab": {},
    "colab_type": "code",
    "id": "vohWYzMg7BtM"
   },
   "outputs": [],
   "source": [
    "import scipy.stats as stats"
   ]
  },
  {
   "cell_type": "code",
   "execution_count": null,
   "metadata": {
    "colab": {
     "base_uri": "https://localhost:8080/",
     "height": 420
    },
    "colab_type": "code",
    "executionInfo": {
     "elapsed": 4546,
     "status": "ok",
     "timestamp": 1591363357800,
     "user": {
      "displayName": "dipesh joshi",
      "photoUrl": "https://lh3.googleusercontent.com/a-/AOh14GjUigpEAAOp2xjmr4Tr9br-wQRdqPmGNwgZbK3LgUE=s64",
      "userId": "06750728439165467537"
     },
     "user_tz": -330
    },
    "id": "JbHB16Ft6IuK",
    "outputId": "ab479470-e07f-40b5-8711-fd917b260145"
   },
   "outputs": [
    {
     "data": {
      "text/html": [
       "<div>\n",
       "<style scoped>\n",
       "    .dataframe tbody tr th:only-of-type {\n",
       "        vertical-align: middle;\n",
       "    }\n",
       "\n",
       "    .dataframe tbody tr th {\n",
       "        vertical-align: top;\n",
       "    }\n",
       "\n",
       "    .dataframe thead th {\n",
       "        text-align: right;\n",
       "    }\n",
       "</style>\n",
       "<table border=\"1\" class=\"dataframe\">\n",
       "  <thead>\n",
       "    <tr style=\"text-align: right;\">\n",
       "      <th></th>\n",
       "      <th>Age</th>\n",
       "      <th>SibSp</th>\n",
       "      <th>Parch</th>\n",
       "      <th>Fare</th>\n",
       "    </tr>\n",
       "  </thead>\n",
       "  <tbody>\n",
       "    <tr>\n",
       "      <th>Age</th>\n",
       "      <td>1.000000</td>\n",
       "      <td>-0.308247</td>\n",
       "      <td>-0.189119</td>\n",
       "      <td>0.096067</td>\n",
       "    </tr>\n",
       "    <tr>\n",
       "      <th>SibSp</th>\n",
       "      <td>-0.308247</td>\n",
       "      <td>1.000000</td>\n",
       "      <td>0.383820</td>\n",
       "      <td>0.138329</td>\n",
       "    </tr>\n",
       "    <tr>\n",
       "      <th>Parch</th>\n",
       "      <td>-0.189119</td>\n",
       "      <td>0.383820</td>\n",
       "      <td>1.000000</td>\n",
       "      <td>0.205119</td>\n",
       "    </tr>\n",
       "    <tr>\n",
       "      <th>Fare</th>\n",
       "      <td>0.096067</td>\n",
       "      <td>0.138329</td>\n",
       "      <td>0.205119</td>\n",
       "      <td>1.000000</td>\n",
       "    </tr>\n",
       "  </tbody>\n",
       "</table>\n",
       "</div>"
      ],
      "text/plain": [
       "            Age     SibSp     Parch      Fare\n",
       "Age    1.000000 -0.308247 -0.189119  0.096067\n",
       "SibSp -0.308247  1.000000  0.383820  0.138329\n",
       "Parch -0.189119  0.383820  1.000000  0.205119\n",
       "Fare   0.096067  0.138329  0.205119  1.000000"
      ]
     },
     "execution_count": 20,
     "metadata": {
      "tags": []
     },
     "output_type": "execute_result"
    },
    {
     "data": {
      "image/png": "[encoded data removed]",
      "text/plain": [
       "<Figure size 432x288 with 2 Axes>"
      ]
     },
     "metadata": {
      "needs_background": "light",
      "tags": []
     },
     "output_type": "display_data"
    }
   ],
   "source": [
    "sns.heatmap(dat.corr(),cmap='RdYlGn',annot=dat.corr())\n",
    "dat.corr()"
   ]
  },
  {
   "cell_type": "code",
   "execution_count": null,
   "metadata": {
    "colab": {
     "base_uri": "https://localhost:8080/",
     "height": 407
    },
    "colab_type": "code",
    "executionInfo": {
     "elapsed": 4508,
     "status": "ok",
     "timestamp": 1591363357804,
     "user": {
      "displayName": "dipesh joshi",
      "photoUrl": "https://lh3.googleusercontent.com/a-/AOh14GjUigpEAAOp2xjmr4Tr9br-wQRdqPmGNwgZbK3LgUE=s64",
      "userId": "06750728439165467537"
     },
     "user_tz": -330
    },
    "id": "NEgrqbQh53g1",
    "outputId": "4824fe0c-1962-4a99-b637-eb3a58f4d56d"
   },
   "outputs": [
    {
     "data": {
      "text/html": [
       "<div>\n",
       "<style scoped>\n",
       "    .dataframe tbody tr th:only-of-type {\n",
       "        vertical-align: middle;\n",
       "    }\n",
       "\n",
       "    .dataframe tbody tr th {\n",
       "        vertical-align: top;\n",
       "    }\n",
       "\n",
       "    .dataframe thead th {\n",
       "        text-align: right;\n",
       "    }\n",
       "</style>\n",
       "<table border=\"1\" class=\"dataframe\">\n",
       "  <thead>\n",
       "    <tr style=\"text-align: right;\">\n",
       "      <th></th>\n",
       "      <th>Age</th>\n",
       "      <th>Pclass</th>\n",
       "      <th>SibSp</th>\n",
       "      <th>Fare</th>\n",
       "      <th>Sex</th>\n",
       "      <th>Embarked</th>\n",
       "      <th>Survived</th>\n",
       "      <th>Parch</th>\n",
       "    </tr>\n",
       "  </thead>\n",
       "  <tbody>\n",
       "    <tr>\n",
       "      <th>0</th>\n",
       "      <td>22.0</td>\n",
       "      <td>3</td>\n",
       "      <td>1</td>\n",
       "      <td>7.2500</td>\n",
       "      <td>male</td>\n",
       "      <td>S</td>\n",
       "      <td>0</td>\n",
       "      <td>0</td>\n",
       "    </tr>\n",
       "    <tr>\n",
       "      <th>1</th>\n",
       "      <td>38.0</td>\n",
       "      <td>1</td>\n",
       "      <td>1</td>\n",
       "      <td>71.2833</td>\n",
       "      <td>female</td>\n",
       "      <td>C</td>\n",
       "      <td>1</td>\n",
       "      <td>0</td>\n",
       "    </tr>\n",
       "    <tr>\n",
       "      <th>2</th>\n",
       "      <td>26.0</td>\n",
       "      <td>3</td>\n",
       "      <td>0</td>\n",
       "      <td>7.9250</td>\n",
       "      <td>female</td>\n",
       "      <td>S</td>\n",
       "      <td>1</td>\n",
       "      <td>0</td>\n",
       "    </tr>\n",
       "    <tr>\n",
       "      <th>3</th>\n",
       "      <td>35.0</td>\n",
       "      <td>1</td>\n",
       "      <td>1</td>\n",
       "      <td>53.1000</td>\n",
       "      <td>female</td>\n",
       "      <td>S</td>\n",
       "      <td>1</td>\n",
       "      <td>0</td>\n",
       "    </tr>\n",
       "    <tr>\n",
       "      <th>4</th>\n",
       "      <td>35.0</td>\n",
       "      <td>3</td>\n",
       "      <td>0</td>\n",
       "      <td>8.0500</td>\n",
       "      <td>male</td>\n",
       "      <td>S</td>\n",
       "      <td>0</td>\n",
       "      <td>0</td>\n",
       "    </tr>\n",
       "    <tr>\n",
       "      <th>...</th>\n",
       "      <td>...</td>\n",
       "      <td>...</td>\n",
       "      <td>...</td>\n",
       "      <td>...</td>\n",
       "      <td>...</td>\n",
       "      <td>...</td>\n",
       "      <td>...</td>\n",
       "      <td>...</td>\n",
       "    </tr>\n",
       "    <tr>\n",
       "      <th>885</th>\n",
       "      <td>39.0</td>\n",
       "      <td>3</td>\n",
       "      <td>0</td>\n",
       "      <td>29.1250</td>\n",
       "      <td>female</td>\n",
       "      <td>Q</td>\n",
       "      <td>0</td>\n",
       "      <td>5</td>\n",
       "    </tr>\n",
       "    <tr>\n",
       "      <th>886</th>\n",
       "      <td>27.0</td>\n",
       "      <td>2</td>\n",
       "      <td>0</td>\n",
       "      <td>13.0000</td>\n",
       "      <td>male</td>\n",
       "      <td>S</td>\n",
       "      <td>0</td>\n",
       "      <td>0</td>\n",
       "    </tr>\n",
       "    <tr>\n",
       "      <th>887</th>\n",
       "      <td>19.0</td>\n",
       "      <td>1</td>\n",
       "      <td>0</td>\n",
       "      <td>30.0000</td>\n",
       "      <td>female</td>\n",
       "      <td>S</td>\n",
       "      <td>1</td>\n",
       "      <td>0</td>\n",
       "    </tr>\n",
       "    <tr>\n",
       "      <th>889</th>\n",
       "      <td>26.0</td>\n",
       "      <td>1</td>\n",
       "      <td>0</td>\n",
       "      <td>30.0000</td>\n",
       "      <td>male</td>\n",
       "      <td>C</td>\n",
       "      <td>1</td>\n",
       "      <td>0</td>\n",
       "    </tr>\n",
       "    <tr>\n",
       "      <th>890</th>\n",
       "      <td>32.0</td>\n",
       "      <td>3</td>\n",
       "      <td>0</td>\n",
       "      <td>7.7500</td>\n",
       "      <td>male</td>\n",
       "      <td>Q</td>\n",
       "      <td>0</td>\n",
       "      <td>0</td>\n",
       "    </tr>\n",
       "  </tbody>\n",
       "</table>\n",
       "<p>714 rows × 8 columns</p>\n",
       "</div>"
      ],
      "text/plain": [
       "      Age  Pclass  SibSp     Fare     Sex Embarked  Survived  Parch\n",
       "0    22.0       3      1   7.2500    male        S         0      0\n",
       "1    38.0       1      1  71.2833  female        C         1      0\n",
       "2    26.0       3      0   7.9250  female        S         1      0\n",
       "3    35.0       1      1  53.1000  female        S         1      0\n",
       "4    35.0       3      0   8.0500    male        S         0      0\n",
       "..    ...     ...    ...      ...     ...      ...       ...    ...\n",
       "885  39.0       3      0  29.1250  female        Q         0      5\n",
       "886  27.0       2      0  13.0000    male        S         0      0\n",
       "887  19.0       1      0  30.0000  female        S         1      0\n",
       "889  26.0       1      0  30.0000    male        C         1      0\n",
       "890  32.0       3      0   7.7500    male        Q         0      0\n",
       "\n",
       "[714 rows x 8 columns]"
      ]
     },
     "execution_count": 21,
     "metadata": {
      "tags": []
     },
     "output_type": "execute_result"
    }
   ],
   "source": [
    "data=df[['Age','Pclass','SibSp','Fare','Sex','Embarked','Survived','Parch']]\n",
    "data"
   ]
  },
  {
   "cell_type": "code",
   "execution_count": null,
   "metadata": {
    "colab": {},
    "colab_type": "code",
    "id": "9V94WvzY7vI_"
   },
   "outputs": [],
   "source": [
    "#Predictions Based On Only Numerical Varibles"
   ]
  },
  {
   "cell_type": "code",
   "execution_count": null,
   "metadata": {
    "colab": {},
    "colab_type": "code",
    "id": "JHco9YQ-7zu6"
   },
   "outputs": [],
   "source": [
    "y=df.Survived"
   ]
  },
  {
   "cell_type": "code",
   "execution_count": null,
   "metadata": {
    "colab": {},
    "colab_type": "code",
    "id": "fD7sZ8UN_Avd"
   },
   "outputs": [],
   "source": [
    "features=['Age','Pclass','SibSp','Fare']\n",
    "X=df[features]"
   ]
  },
  {
   "cell_type": "code",
   "execution_count": null,
   "metadata": {
    "colab": {},
    "colab_type": "code",
    "id": "oOpNl0U0lvMB"
   },
   "outputs": [],
   "source": [
    "from sklearn.tree import DecisionTreeRegressor"
   ]
  },
  {
   "cell_type": "code",
   "execution_count": null,
   "metadata": {
    "colab": {},
    "colab_type": "code",
    "id": "aqPs8_l4lzv5"
   },
   "outputs": [],
   "source": [
    "def dt_max_calc(x_train,x_test,y_train,y_test):\n",
    "  for i in [50,250,500,750,1000]:\n",
    "    modTest=DecisionTreeRegressor(max_leaf_nodes=i,random_state=1)\n",
    "    modTest.fit(x_train,y_train)\n",
    "    temp=mean_absolute_error(y_test,modTest.predict(x_test))\n",
    "    print(\"Max leaf nodes: %d  \\t\\t Mean Absolute Error:  %d\" %(i, temp))\n"
   ]
  },
  {
   "cell_type": "code",
   "execution_count": null,
   "metadata": {
    "colab": {},
    "colab_type": "code",
    "id": "O6nSCHswv0Lq"
   },
   "outputs": [],
   "source": [
    "X_train,X_test,y_train,y_test = train_test_split(X,y,random_state=1)"
   ]
  },
  {
   "cell_type": "code",
   "execution_count": null,
   "metadata": {
    "colab": {
     "base_uri": "https://localhost:8080/",
     "height": 105
    },
    "colab_type": "code",
    "executionInfo": {
     "elapsed": 1992,
     "status": "ok",
     "timestamp": 1594457262319,
     "user": {
      "displayName": "dipesh joshi",
      "photoUrl": "https://lh3.googleusercontent.com/a-/AOh14GjUigpEAAOp2xjmr4Tr9br-wQRdqPmGNwgZbK3LgUE=s64",
      "userId": "06750728439165467537"
     },
     "user_tz": -330
    },
    "id": "hRLwZKqfwXFS",
    "outputId": "2c0bac97-e9d2-40f6-f42e-e3abb1c17a97"
   },
   "outputs": [
    {
     "name": "stdout",
     "output_type": "stream",
     "text": [
      "Max leaf nodes: 50  \t\t Mean Absolute Error:  0\n",
      "Max leaf nodes: 250  \t\t Mean Absolute Error:  0\n",
      "Max leaf nodes: 500  \t\t Mean Absolute Error:  0\n",
      "Max leaf nodes: 750  \t\t Mean Absolute Error:  0\n",
      "Max leaf nodes: 1000  \t\t Mean Absolute Error:  0\n"
     ]
    }
   ],
   "source": [
    "dt_max_calc(X_train,X_test,y_train,y_test)"
   ]
  },
  {
   "cell_type": "code",
   "execution_count": null,
   "metadata": {
    "colab": {
     "base_uri": "https://localhost:8080/",
     "height": 34
    },
    "colab_type": "code",
    "executionInfo": {
     "elapsed": 2155,
     "status": "ok",
     "timestamp": 1594457264360,
     "user": {
      "displayName": "dipesh joshi",
      "photoUrl": "https://lh3.googleusercontent.com/a-/AOh14GjUigpEAAOp2xjmr4Tr9br-wQRdqPmGNwgZbK3LgUE=s64",
      "userId": "06750728439165467537"
     },
     "user_tz": -330
    },
    "id": "4MQ6hgGlwYtB",
    "outputId": "45ab44ca-6008-40ca-97ea-3314cb00b871"
   },
   "outputs": [
    {
     "name": "stdout",
     "output_type": "stream",
     "text": [
      "Max leaf nodes: 500  \t\t Mean Absolute Error:  0\n"
     ]
    }
   ],
   "source": [
    "modTest=DecisionTreeRegressor(max_leaf_nodes=500,random_state=1)\n",
    "modTest.fit(X_train,y_train)\n",
    "temp=mean_absolute_error(y_test,modTest.predict(X_test))\n",
    "print(\"Max leaf nodes: %d  \\t\\t Mean Absolute Error:  %d\" %(500, temp))"
   ]
  },
  {
   "cell_type": "code",
   "execution_count": null,
   "metadata": {
    "colab": {},
    "colab_type": "code",
    "id": "4DPy1sgKwmn5"
   },
   "outputs": [],
   "source": [
    "from sklearn.ensemble import RandomForestRegressor"
   ]
  },
  {
   "cell_type": "code",
   "execution_count": null,
   "metadata": {
    "colab": {},
    "colab_type": "code",
    "id": "QgwLRchVxg-u"
   },
   "outputs": [],
   "source": [
    "modTest=RandomForestRegressor(random_state=1)\n",
    "modTest.fit(X_train,y_train)\n",
    "temp=mean_absolute_error(y_test,modTest.predict(X_test))"
   ]
  },
  {
   "cell_type": "code",
   "execution_count": null,
   "metadata": {
    "colab": {},
    "colab_type": "code",
    "id": "npmdD4r4x7YV"
   },
   "outputs": [],
   "source": []
  },
  {
   "cell_type": "code",
   "execution_count": null,
   "metadata": {
    "colab": {},
    "colab_type": "code",
    "id": "UiWkNJeszmC0"
   },
   "outputs": [],
   "source": [
    "features=['Age','Pclass','SibSp','Fare']\n",
    "\n",
    "X_train=df[features]"
   ]
  },
  {
   "cell_type": "code",
   "execution_count": null,
   "metadata": {
    "colab": {},
    "colab_type": "code",
    "id": "qn8VfPisz7U7"
   },
   "outputs": [],
   "source": [
    "y_train=df.Survived"
   ]
  },
  {
   "cell_type": "code",
   "execution_count": null,
   "metadata": {
    "colab": {
     "base_uri": "https://localhost:8080/",
     "height": 34
    },
    "colab_type": "code",
    "executionInfo": {
     "elapsed": 1522,
     "status": "ok",
     "timestamp": 1594457349807,
     "user": {
      "displayName": "dipesh joshi",
      "photoUrl": "https://lh3.googleusercontent.com/a-/AOh14GjUigpEAAOp2xjmr4Tr9br-wQRdqPmGNwgZbK3LgUE=s64",
      "userId": "06750728439165467537"
     },
     "user_tz": -330
    },
    "id": "NAjr5Mdnz_OA",
    "outputId": "08dc2eb0-180d-4833-e6dd-c4d606258b84"
   },
   "outputs": [
    {
     "name": "stdout",
     "output_type": "stream",
     "text": [
      "Absolute Mean Error is 0 \n"
     ]
    }
   ],
   "source": [
    "RF_model=RandomForestRegressor(random_state=1)\n",
    "RF_model.fit(X_train,y_train)\n",
    "Error_mae=mean_absolute_error(y_test,modTest.predict(X_test))\n",
    "print(\"Absolute Mean Error is %d \" %(Error_mae))"
   ]
  },
  {
   "cell_type": "code",
   "execution_count": null,
   "metadata": {
    "colab": {},
    "colab_type": "code",
    "id": "GGZ85MDX8w2d"
   },
   "outputs": [],
   "source": [
    "import numpy as np"
   ]
  },
  {
   "cell_type": "code",
   "execution_count": null,
   "metadata": {
    "colab": {
     "base_uri": "https://localhost:8080/",
     "height": 105
    },
    "colab_type": "code",
    "executionInfo": {
     "elapsed": 1897,
     "status": "ok",
     "timestamp": 1594458250525,
     "user": {
      "displayName": "dipesh joshi",
      "photoUrl": "https://lh3.googleusercontent.com/a-/AOh14GjUigpEAAOp2xjmr4Tr9br-wQRdqPmGNwgZbK3LgUE=s64",
      "userId": "06750728439165467537"
     },
     "user_tz": -330
    },
    "id": "XJ0ib66RFnS2",
    "outputId": "60243b4a-940f-4cdf-82c7-f6df80281e5f"
   },
   "outputs": [
    {
     "name": "stdout",
     "output_type": "stream",
     "text": [
      "Age       30.272590\n",
      "Pclass     2.265550\n",
      "SibSp      0.447368\n",
      "Fare      35.627188\n",
      "dtype: float64\n"
     ]
    }
   ],
   "source": [
    "mn=test[features].mean()\n",
    "print(mn)\n",
    "test[features]=test[features].replace(np.nan,mn)\n",
    "#test[features].head(50)"
   ]
  },
  {
   "cell_type": "code",
   "execution_count": null,
   "metadata": {
    "colab": {},
    "colab_type": "code",
    "id": "wfPWcqMb0sVR"
   },
   "outputs": [],
   "source": [
    "\n",
    "\n",
    "X_val=test[features]\n",
    "\n",
    "Surv=RF_model.predict(X_val)\n",
    "for i in range(len(Surv)):\n",
    "  Surv[i]=int(round(Surv[i]))\n",
    "\n"
   ]
  },
  {
   "cell_type": "code",
   "execution_count": null,
   "metadata": {
    "colab": {
     "base_uri": "https://localhost:8080/",
     "height": 284
    },
    "colab_type": "code",
    "executionInfo": {
     "elapsed": 1547,
     "status": "ok",
     "timestamp": 1594458572851,
     "user": {
      "displayName": "dipesh joshi",
      "photoUrl": "https://lh3.googleusercontent.com/a-/AOh14GjUigpEAAOp2xjmr4Tr9br-wQRdqPmGNwgZbK3LgUE=s64",
      "userId": "06750728439165467537"
     },
     "user_tz": -330
    },
    "id": "tLs4-xqo0z1G",
    "outputId": "43666902-7812-4f39-e376-9ad99e10e50d"
   },
   "outputs": [
    {
     "data": {
      "text/html": [
       "<div>\n",
       "<style scoped>\n",
       "    .dataframe tbody tr th:only-of-type {\n",
       "        vertical-align: middle;\n",
       "    }\n",
       "\n",
       "    .dataframe tbody tr th {\n",
       "        vertical-align: top;\n",
       "    }\n",
       "\n",
       "    .dataframe thead th {\n",
       "        text-align: right;\n",
       "    }\n",
       "</style>\n",
       "<table border=\"1\" class=\"dataframe\">\n",
       "  <thead>\n",
       "    <tr style=\"text-align: right;\">\n",
       "      <th></th>\n",
       "      <th>PassengerId</th>\n",
       "      <th>Survived</th>\n",
       "    </tr>\n",
       "  </thead>\n",
       "  <tbody>\n",
       "    <tr>\n",
       "      <th>count</th>\n",
       "      <td>418.000000</td>\n",
       "      <td>418.000000</td>\n",
       "    </tr>\n",
       "    <tr>\n",
       "      <th>mean</th>\n",
       "      <td>1100.500000</td>\n",
       "      <td>0.382775</td>\n",
       "    </tr>\n",
       "    <tr>\n",
       "      <th>std</th>\n",
       "      <td>120.810458</td>\n",
       "      <td>0.486647</td>\n",
       "    </tr>\n",
       "    <tr>\n",
       "      <th>min</th>\n",
       "      <td>892.000000</td>\n",
       "      <td>0.000000</td>\n",
       "    </tr>\n",
       "    <tr>\n",
       "      <th>25%</th>\n",
       "      <td>996.250000</td>\n",
       "      <td>0.000000</td>\n",
       "    </tr>\n",
       "    <tr>\n",
       "      <th>50%</th>\n",
       "      <td>1100.500000</td>\n",
       "      <td>0.000000</td>\n",
       "    </tr>\n",
       "    <tr>\n",
       "      <th>75%</th>\n",
       "      <td>1204.750000</td>\n",
       "      <td>1.000000</td>\n",
       "    </tr>\n",
       "    <tr>\n",
       "      <th>max</th>\n",
       "      <td>1309.000000</td>\n",
       "      <td>1.000000</td>\n",
       "    </tr>\n",
       "  </tbody>\n",
       "</table>\n",
       "</div>"
      ],
      "text/plain": [
       "       PassengerId    Survived\n",
       "count   418.000000  418.000000\n",
       "mean   1100.500000    0.382775\n",
       "std     120.810458    0.486647\n",
       "min     892.000000    0.000000\n",
       "25%     996.250000    0.000000\n",
       "50%    1100.500000    0.000000\n",
       "75%    1204.750000    1.000000\n",
       "max    1309.000000    1.000000"
      ]
     },
     "execution_count": 48,
     "metadata": {
      "tags": []
     },
     "output_type": "execute_result"
    }
   ],
   "source": [
    "output = pd.DataFrame({'PassengerId': test.PassengerId, 'Survived': Surv})\n",
    "output.describe()"
   ]
  },
  {
   "cell_type": "code",
   "execution_count": null,
   "metadata": {
    "colab": {
     "base_uri": "https://localhost:8080/",
     "height": 167
    },
    "colab_type": "code",
    "executionInfo": {
     "elapsed": 1548,
     "status": "error",
     "timestamp": 1594550306491,
     "user": {
      "displayName": "dipesh joshi",
      "photoUrl": "https://lh3.googleusercontent.com/a-/AOh14GjUigpEAAOp2xjmr4Tr9br-wQRdqPmGNwgZbK3LgUE=s64",
      "userId": "06750728439165467537"
     },
     "user_tz": -330
    },
    "id": "7dh3Y13m1Et5",
    "outputId": "fe5438ed-3273-496c-d505-41459cce01cb"
   },
   "outputs": [
    {
     "ename": "NameError",
     "evalue": "ignored",
     "output_type": "error",
     "traceback": [
      "\u001b[0;31m---------------------------------------------------------------------------\u001b[0m",
      "\u001b[0;31mNameError\u001b[0m                                 Traceback (most recent call last)",
      "\u001b[0;32m<ipython-input-164-c38d4e6205f6>\u001b[0m in \u001b[0;36m<module>\u001b[0;34m()\u001b[0m\n\u001b[0;32m----> 1\u001b[0;31m \u001b[0moutput\u001b[0m\u001b[0;34m.\u001b[0m\u001b[0mto_csv\u001b[0m\u001b[0;34m(\u001b[0m\u001b[0;34m'my_submission_1.csv'\u001b[0m\u001b[0;34m,\u001b[0m\u001b[0mindex\u001b[0m\u001b[0;34m=\u001b[0m\u001b[0;32mFalse\u001b[0m\u001b[0;34m)\u001b[0m\u001b[0;34m\u001b[0m\u001b[0;34m\u001b[0m\u001b[0m\n\u001b[0m",
      "\u001b[0;31mNameError\u001b[0m: name 'output' is not defined"
     ]
    }
   ],
   "source": [
    "output.to_csv('my_submission_1.csv',index=False)"
   ]
  },
  {
   "cell_type": "code",
   "execution_count": null,
   "metadata": {
    "colab": {},
    "colab_type": "code",
    "id": "iLfnljvE8_5f"
   },
   "outputs": [],
   "source": [
    "#try with refabricating the NaN values in test"
   ]
  },
  {
   "cell_type": "code",
   "execution_count": null,
   "metadata": {
    "colab": {},
    "colab_type": "code",
    "id": "gM3Ixk-p-GlR"
   },
   "outputs": [],
   "source": [
    "# Try 2"
   ]
  },
  {
   "cell_type": "code",
   "execution_count": null,
   "metadata": {
    "colab": {},
    "colab_type": "code",
    "id": "oPgQa2RENf5x"
   },
   "outputs": [],
   "source": [
    "#Features that we are taking to be relevent are :\n",
    "#Pclass Sex Age Embarked"
   ]
  },
  {
   "cell_type": "code",
   "execution_count": null,
   "metadata": {
    "colab": {},
    "colab_type": "code",
    "id": "grHR3zeIN2LU"
   },
   "outputs": [],
   "source": [
    "y = df.Survived.copy()"
   ]
  },
  {
   "cell_type": "code",
   "execution_count": null,
   "metadata": {
    "colab": {},
    "colab_type": "code",
    "id": "34ArMAvuN9YV"
   },
   "outputs": [],
   "source": [
    "features=['Age','Sex','Pclass','Embarked']\n",
    "X = df[features].copy()"
   ]
  },
  {
   "cell_type": "code",
   "execution_count": null,
   "metadata": {
    "colab": {
     "base_uri": "https://localhost:8080/",
     "height": 105
    },
    "colab_type": "code",
    "executionInfo": {
     "elapsed": 4716,
     "status": "ok",
     "timestamp": 1594552112646,
     "user": {
      "displayName": "dipesh joshi",
      "photoUrl": "https://lh3.googleusercontent.com/a-/AOh14GjUigpEAAOp2xjmr4Tr9br-wQRdqPmGNwgZbK3LgUE=s64",
      "userId": "06750728439165467537"
     },
     "user_tz": -330
    },
    "id": "DKmU2XFPOQoC",
    "outputId": "0d113548-e589-4715-e5d5-065ae316e504"
   },
   "outputs": [
    {
     "data": {
      "text/plain": [
       "Age          True\n",
       "Sex         False\n",
       "Pclass      False\n",
       "Embarked     True\n",
       "dtype: bool"
      ]
     },
     "execution_count": 196,
     "metadata": {
      "tags": []
     },
     "output_type": "execute_result"
    }
   ],
   "source": [
    "X.isnull().any()"
   ]
  },
  {
   "cell_type": "code",
   "execution_count": null,
   "metadata": {
    "colab": {},
    "colab_type": "code",
    "id": "z2xLoq1ZOfms"
   },
   "outputs": [],
   "source": [
    "age_mean=X['Age'].mean()\n",
    "X.Age.replace(np.nan,age_mean,inplace=True)"
   ]
  },
  {
   "cell_type": "code",
   "execution_count": null,
   "metadata": {
    "colab": {},
    "colab_type": "code",
    "id": "hQH8TlfcPSUp"
   },
   "outputs": [],
   "source": [
    "embarked_max=X.Embarked.value_counts().idxmax()\n",
    "X.Embarked.replace(np.nan,embarked_max,inplace=True)"
   ]
  },
  {
   "cell_type": "code",
   "execution_count": null,
   "metadata": {
    "colab": {
     "base_uri": "https://localhost:8080/",
     "height": 195
    },
    "colab_type": "code",
    "executionInfo": {
     "elapsed": 3462,
     "status": "ok",
     "timestamp": 1594552116699,
     "user": {
      "displayName": "dipesh joshi",
      "photoUrl": "https://lh3.googleusercontent.com/a-/AOh14GjUigpEAAOp2xjmr4Tr9br-wQRdqPmGNwgZbK3LgUE=s64",
      "userId": "06750728439165467537"
     },
     "user_tz": -330
    },
    "id": "4Z6aFqeQQfg3",
    "outputId": "660cd767-6c9b-4a5b-a6a1-05fafb734305"
   },
   "outputs": [
    {
     "data": {
      "text/html": [
       "<div>\n",
       "<style scoped>\n",
       "    .dataframe tbody tr th:only-of-type {\n",
       "        vertical-align: middle;\n",
       "    }\n",
       "\n",
       "    .dataframe tbody tr th {\n",
       "        vertical-align: top;\n",
       "    }\n",
       "\n",
       "    .dataframe thead th {\n",
       "        text-align: right;\n",
       "    }\n",
       "</style>\n",
       "<table border=\"1\" class=\"dataframe\">\n",
       "  <thead>\n",
       "    <tr style=\"text-align: right;\">\n",
       "      <th></th>\n",
       "      <th>Age</th>\n",
       "      <th>Sex</th>\n",
       "      <th>Pclass</th>\n",
       "      <th>Embarked</th>\n",
       "    </tr>\n",
       "  </thead>\n",
       "  <tbody>\n",
       "    <tr>\n",
       "      <th>0</th>\n",
       "      <td>22.0</td>\n",
       "      <td>male</td>\n",
       "      <td>3</td>\n",
       "      <td>S</td>\n",
       "    </tr>\n",
       "    <tr>\n",
       "      <th>1</th>\n",
       "      <td>38.0</td>\n",
       "      <td>female</td>\n",
       "      <td>1</td>\n",
       "      <td>C</td>\n",
       "    </tr>\n",
       "    <tr>\n",
       "      <th>2</th>\n",
       "      <td>26.0</td>\n",
       "      <td>female</td>\n",
       "      <td>3</td>\n",
       "      <td>S</td>\n",
       "    </tr>\n",
       "    <tr>\n",
       "      <th>3</th>\n",
       "      <td>35.0</td>\n",
       "      <td>female</td>\n",
       "      <td>1</td>\n",
       "      <td>S</td>\n",
       "    </tr>\n",
       "    <tr>\n",
       "      <th>4</th>\n",
       "      <td>35.0</td>\n",
       "      <td>male</td>\n",
       "      <td>3</td>\n",
       "      <td>S</td>\n",
       "    </tr>\n",
       "  </tbody>\n",
       "</table>\n",
       "</div>"
      ],
      "text/plain": [
       "    Age     Sex  Pclass Embarked\n",
       "0  22.0    male       3        S\n",
       "1  38.0  female       1        C\n",
       "2  26.0  female       3        S\n",
       "3  35.0  female       1        S\n",
       "4  35.0    male       3        S"
      ]
     },
     "execution_count": 199,
     "metadata": {
      "tags": []
     },
     "output_type": "execute_result"
    }
   ],
   "source": [
    "X.head(5)"
   ]
  },
  {
   "cell_type": "code",
   "execution_count": null,
   "metadata": {
    "colab": {},
    "colab_type": "code",
    "id": "CEsGsveBR5c3"
   },
   "outputs": [],
   "source": [
    "#Encoding Catagorical Variables"
   ]
  },
  {
   "cell_type": "code",
   "execution_count": null,
   "metadata": {
    "colab": {},
    "colab_type": "code",
    "id": "egGQoybfSKO3"
   },
   "outputs": [],
   "source": [
    "from sklearn.preprocessing import LabelEncoder\n",
    "label_encoder = LabelEncoder() "
   ]
  },
  {
   "cell_type": "code",
   "execution_count": null,
   "metadata": {
    "colab": {},
    "colab_type": "code",
    "id": "UMZPFxqeSR2z"
   },
   "outputs": [],
   "source": [
    "#Encoding\n",
    "X.Sex = label_encoder.fit_transform(X.Sex)\n",
    "X.Embarked = label_encoder.fit_transform(X.Embarked)"
   ]
  },
  {
   "cell_type": "code",
   "execution_count": null,
   "metadata": {
    "colab": {
     "base_uri": "https://localhost:8080/",
     "height": 195
    },
    "colab_type": "code",
    "executionInfo": {
     "elapsed": 2628,
     "status": "ok",
     "timestamp": 1594552123048,
     "user": {
      "displayName": "dipesh joshi",
      "photoUrl": "https://lh3.googleusercontent.com/a-/AOh14GjUigpEAAOp2xjmr4Tr9br-wQRdqPmGNwgZbK3LgUE=s64",
      "userId": "06750728439165467537"
     },
     "user_tz": -330
    },
    "id": "pC_wyIqxcYiG",
    "outputId": "51e119c0-e999-4958-e92b-0d26392b1a07"
   },
   "outputs": [
    {
     "data": {
      "text/html": [
       "<div>\n",
       "<style scoped>\n",
       "    .dataframe tbody tr th:only-of-type {\n",
       "        vertical-align: middle;\n",
       "    }\n",
       "\n",
       "    .dataframe tbody tr th {\n",
       "        vertical-align: top;\n",
       "    }\n",
       "\n",
       "    .dataframe thead th {\n",
       "        text-align: right;\n",
       "    }\n",
       "</style>\n",
       "<table border=\"1\" class=\"dataframe\">\n",
       "  <thead>\n",
       "    <tr style=\"text-align: right;\">\n",
       "      <th></th>\n",
       "      <th>Age</th>\n",
       "      <th>Sex</th>\n",
       "      <th>Pclass</th>\n",
       "      <th>Embarked</th>\n",
       "    </tr>\n",
       "  </thead>\n",
       "  <tbody>\n",
       "    <tr>\n",
       "      <th>0</th>\n",
       "      <td>22.0</td>\n",
       "      <td>1</td>\n",
       "      <td>3</td>\n",
       "      <td>2</td>\n",
       "    </tr>\n",
       "    <tr>\n",
       "      <th>1</th>\n",
       "      <td>38.0</td>\n",
       "      <td>0</td>\n",
       "      <td>1</td>\n",
       "      <td>0</td>\n",
       "    </tr>\n",
       "    <tr>\n",
       "      <th>2</th>\n",
       "      <td>26.0</td>\n",
       "      <td>0</td>\n",
       "      <td>3</td>\n",
       "      <td>2</td>\n",
       "    </tr>\n",
       "    <tr>\n",
       "      <th>3</th>\n",
       "      <td>35.0</td>\n",
       "      <td>0</td>\n",
       "      <td>1</td>\n",
       "      <td>2</td>\n",
       "    </tr>\n",
       "    <tr>\n",
       "      <th>4</th>\n",
       "      <td>35.0</td>\n",
       "      <td>1</td>\n",
       "      <td>3</td>\n",
       "      <td>2</td>\n",
       "    </tr>\n",
       "  </tbody>\n",
       "</table>\n",
       "</div>"
      ],
      "text/plain": [
       "    Age  Sex  Pclass  Embarked\n",
       "0  22.0    1       3         2\n",
       "1  38.0    0       1         0\n",
       "2  26.0    0       3         2\n",
       "3  35.0    0       1         2\n",
       "4  35.0    1       3         2"
      ]
     },
     "execution_count": 203,
     "metadata": {
      "tags": []
     },
     "output_type": "execute_result"
    }
   ],
   "source": [
    "X.head(5)"
   ]
  },
  {
   "cell_type": "code",
   "execution_count": null,
   "metadata": {
    "colab": {},
    "colab_type": "code",
    "id": "3JrgGNjeRW1U"
   },
   "outputs": [],
   "source": [
    "x_train,x_val,y_train,y_val = train_test_split(X,y,random_state=1)"
   ]
  },
  {
   "cell_type": "code",
   "execution_count": null,
   "metadata": {
    "colab": {},
    "colab_type": "code",
    "id": "M293gguycdTZ"
   },
   "outputs": [],
   "source": [
    "# Model Score Calculator\n",
    "def score(model,x_train=x_train,x_val=x_val,y_train=y_train,y_val=y_val):\n",
    "  model.fit(x_train,y_train)\n",
    "  return mean_absolute_error(model.predict(x_val),y_val)\n"
   ]
  },
  {
   "cell_type": "code",
   "execution_count": null,
   "metadata": {
    "colab": {},
    "colab_type": "code",
    "id": "hJ3ja_pTdIsB"
   },
   "outputs": [],
   "source": [
    "from sklearn.tree import DecisionTreeRegressor"
   ]
  },
  {
   "cell_type": "code",
   "execution_count": null,
   "metadata": {
    "colab": {
     "base_uri": "https://localhost:8080/",
     "height": 34
    },
    "colab_type": "code",
    "executionInfo": {
     "elapsed": 1183,
     "status": "ok",
     "timestamp": 1594548940413,
     "user": {
      "displayName": "dipesh joshi",
      "photoUrl": "https://lh3.googleusercontent.com/a-/AOh14GjUigpEAAOp2xjmr4Tr9br-wQRdqPmGNwgZbK3LgUE=s64",
      "userId": "06750728439165467537"
     },
     "user_tz": -330
    },
    "id": "MfdgPJOWdRfQ",
    "outputId": "6cb2eb3c-c417-43d8-9f37-7e71cfb6097f"
   },
   "outputs": [
    {
     "data": {
      "text/plain": [
       "0.2706002633801887"
      ]
     },
     "execution_count": 117,
     "metadata": {
      "tags": []
     },
     "output_type": "execute_result"
    }
   ],
   "source": [
    "dt_model = DecisionTreeRegressor(max_leaf_nodes=75,random_state=1)\n",
    "score(dt_model)"
   ]
  },
  {
   "cell_type": "code",
   "execution_count": null,
   "metadata": {
    "colab": {},
    "colab_type": "code",
    "id": "RTG8loXJeDWV"
   },
   "outputs": [],
   "source": [
    "from sklearn.ensemble import RandomForestRegressor"
   ]
  },
  {
   "cell_type": "code",
   "execution_count": null,
   "metadata": {
    "colab": {
     "base_uri": "https://localhost:8080/",
     "height": 34
    },
    "colab_type": "code",
    "executionInfo": {
     "elapsed": 1780,
     "status": "ok",
     "timestamp": 1594548944668,
     "user": {
      "displayName": "dipesh joshi",
      "photoUrl": "https://lh3.googleusercontent.com/a-/AOh14GjUigpEAAOp2xjmr4Tr9br-wQRdqPmGNwgZbK3LgUE=s64",
      "userId": "06750728439165467537"
     },
     "user_tz": -330
    },
    "id": "i9lq1wxKeIce",
    "outputId": "4bb2dfb7-5b17-493b-fb64-d056f06d53c7"
   },
   "outputs": [
    {
     "data": {
      "text/plain": [
       "0.27270972926566617"
      ]
     },
     "execution_count": 119,
     "metadata": {
      "tags": []
     },
     "output_type": "execute_result"
    }
   ],
   "source": [
    "rf_model = RandomForestRegressor(n_estimators=51,random_state=1)\n",
    "score(rf_model)"
   ]
  },
  {
   "cell_type": "code",
   "execution_count": null,
   "metadata": {
    "colab": {},
    "colab_type": "code",
    "id": "nrBCjYe0eLfB"
   },
   "outputs": [],
   "source": [
    "# lets see scores by Scaling the data"
   ]
  },
  {
   "cell_type": "code",
   "execution_count": null,
   "metadata": {
    "colab": {
     "base_uri": "https://localhost:8080/",
     "height": 140
    },
    "colab_type": "code",
    "executionInfo": {
     "elapsed": 1995,
     "status": "ok",
     "timestamp": 1594552141764,
     "user": {
      "displayName": "dipesh joshi",
      "photoUrl": "https://lh3.googleusercontent.com/a-/AOh14GjUigpEAAOp2xjmr4Tr9br-wQRdqPmGNwgZbK3LgUE=s64",
      "userId": "06750728439165467537"
     },
     "user_tz": -330
    },
    "id": "Q9Ro3wY9eUF_",
    "outputId": "3d265684-e57f-4600-f9ac-981645d1e269"
   },
   "outputs": [
    {
     "data": {
      "text/plain": [
       "array([[-0.5924806 ,  0.73769513,  0.82737724,  0.58595414],\n",
       "       [ 0.63878901, -1.35557354, -1.56610693, -1.9423032 ],\n",
       "       [-0.2846632 , -1.35557354,  0.82737724,  0.58595414],\n",
       "       ...,\n",
       "       [ 0.        , -1.35557354,  0.82737724,  0.58595414],\n",
       "       [-0.2846632 ,  0.73769513, -1.56610693, -1.9423032 ],\n",
       "       [ 0.17706291,  0.73769513,  0.82737724, -0.67817453]])"
      ]
     },
     "execution_count": 208,
     "metadata": {
      "tags": []
     },
     "output_type": "execute_result"
    }
   ],
   "source": [
    "from sklearn.preprocessing import StandardScaler\n",
    "\n",
    "scaler = StandardScaler()\n",
    "X_sc = scaler.fit_transform(X)\n",
    "X_sc"
   ]
  },
  {
   "cell_type": "code",
   "execution_count": null,
   "metadata": {
    "colab": {},
    "colab_type": "code",
    "id": "jVK2rHyTg7uc"
   },
   "outputs": [],
   "source": [
    "x_train_sc,x_val_sc,y_train_sc,y_val_sc = train_test_split(X_sc,y,random_state=1)"
   ]
  },
  {
   "cell_type": "code",
   "execution_count": null,
   "metadata": {
    "colab": {
     "base_uri": "https://localhost:8080/",
     "height": 34
    },
    "colab_type": "code",
    "executionInfo": {
     "elapsed": 1675,
     "status": "ok",
     "timestamp": 1594552202597,
     "user": {
      "displayName": "dipesh joshi",
      "photoUrl": "https://lh3.googleusercontent.com/a-/AOh14GjUigpEAAOp2xjmr4Tr9br-wQRdqPmGNwgZbK3LgUE=s64",
      "userId": "06750728439165467537"
     },
     "user_tz": -330
    },
    "id": "l-m7BGDcg_1l",
    "outputId": "d519c516-098e-4c1a-be80-27d5d96c6e44"
   },
   "outputs": [
    {
     "data": {
      "text/plain": [
       "0.268731802991549"
      ]
     },
     "execution_count": 210,
     "metadata": {
      "tags": []
     },
     "output_type": "execute_result"
    }
   ],
   "source": [
    "dt_model_sc = DecisionTreeRegressor(max_leaf_nodes=75,random_state=1)\n",
    "score(dt_model_sc,x_train_sc,x_val_sc,y_train_sc,y_val_sc)"
   ]
  },
  {
   "cell_type": "code",
   "execution_count": null,
   "metadata": {
    "colab": {
     "base_uri": "https://localhost:8080/",
     "height": 34
    },
    "colab_type": "code",
    "executionInfo": {
     "elapsed": 1045,
     "status": "ok",
     "timestamp": 1594552204833,
     "user": {
      "displayName": "dipesh joshi",
      "photoUrl": "https://lh3.googleusercontent.com/a-/AOh14GjUigpEAAOp2xjmr4Tr9br-wQRdqPmGNwgZbK3LgUE=s64",
      "userId": "06750728439165467537"
     },
     "user_tz": -330
    },
    "id": "g0464pDxiIzE",
    "outputId": "d41b88da-2f47-4171-a379-8b2da8b5c37d"
   },
   "outputs": [
    {
     "data": {
      "text/plain": [
       "0.2726814668396195"
      ]
     },
     "execution_count": 211,
     "metadata": {
      "tags": []
     },
     "output_type": "execute_result"
    }
   ],
   "source": [
    "rf_model_sc = RandomForestRegressor(n_estimators=51,random_state=1)\n",
    "score(rf_model_sc,x_train_sc,x_val_sc,y_train_sc,y_val_sc)"
   ]
  },
  {
   "cell_type": "code",
   "execution_count": null,
   "metadata": {
    "colab": {},
    "colab_type": "code",
    "id": "P9Y-BpG6im_U"
   },
   "outputs": [],
   "source": [
    "# Preprocessing Test data"
   ]
  },
  {
   "cell_type": "code",
   "execution_count": null,
   "metadata": {
    "colab": {},
    "colab_type": "code",
    "id": "Q9T7oVkujA6Y"
   },
   "outputs": [],
   "source": []
  },
  {
   "cell_type": "code",
   "execution_count": null,
   "metadata": {
    "colab": {},
    "colab_type": "code",
    "id": "sEH6NpeajDMq"
   },
   "outputs": [],
   "source": [
    "features=['Age','Sex','Pclass','Embarked']\n",
    "x_test = test[features].copy()"
   ]
  },
  {
   "cell_type": "code",
   "execution_count": null,
   "metadata": {
    "colab": {
     "base_uri": "https://localhost:8080/",
     "height": 195
    },
    "colab_type": "code",
    "executionInfo": {
     "elapsed": 2626,
     "status": "ok",
     "timestamp": 1594552215785,
     "user": {
      "displayName": "dipesh joshi",
      "photoUrl": "https://lh3.googleusercontent.com/a-/AOh14GjUigpEAAOp2xjmr4Tr9br-wQRdqPmGNwgZbK3LgUE=s64",
      "userId": "06750728439165467537"
     },
     "user_tz": -330
    },
    "id": "wmr4tNg1jMih",
    "outputId": "32d19c91-a5ac-4987-e472-3ed6126e1f26"
   },
   "outputs": [
    {
     "data": {
      "text/html": [
       "<div>\n",
       "<style scoped>\n",
       "    .dataframe tbody tr th:only-of-type {\n",
       "        vertical-align: middle;\n",
       "    }\n",
       "\n",
       "    .dataframe tbody tr th {\n",
       "        vertical-align: top;\n",
       "    }\n",
       "\n",
       "    .dataframe thead th {\n",
       "        text-align: right;\n",
       "    }\n",
       "</style>\n",
       "<table border=\"1\" class=\"dataframe\">\n",
       "  <thead>\n",
       "    <tr style=\"text-align: right;\">\n",
       "      <th></th>\n",
       "      <th>Age</th>\n",
       "      <th>Sex</th>\n",
       "      <th>Pclass</th>\n",
       "      <th>Embarked</th>\n",
       "    </tr>\n",
       "  </thead>\n",
       "  <tbody>\n",
       "    <tr>\n",
       "      <th>0</th>\n",
       "      <td>34.5</td>\n",
       "      <td>male</td>\n",
       "      <td>3</td>\n",
       "      <td>Q</td>\n",
       "    </tr>\n",
       "    <tr>\n",
       "      <th>1</th>\n",
       "      <td>47.0</td>\n",
       "      <td>female</td>\n",
       "      <td>3</td>\n",
       "      <td>S</td>\n",
       "    </tr>\n",
       "    <tr>\n",
       "      <th>2</th>\n",
       "      <td>62.0</td>\n",
       "      <td>male</td>\n",
       "      <td>2</td>\n",
       "      <td>Q</td>\n",
       "    </tr>\n",
       "    <tr>\n",
       "      <th>3</th>\n",
       "      <td>27.0</td>\n",
       "      <td>male</td>\n",
       "      <td>3</td>\n",
       "      <td>S</td>\n",
       "    </tr>\n",
       "    <tr>\n",
       "      <th>4</th>\n",
       "      <td>22.0</td>\n",
       "      <td>female</td>\n",
       "      <td>3</td>\n",
       "      <td>S</td>\n",
       "    </tr>\n",
       "  </tbody>\n",
       "</table>\n",
       "</div>"
      ],
      "text/plain": [
       "    Age     Sex  Pclass Embarked\n",
       "0  34.5    male       3        Q\n",
       "1  47.0  female       3        S\n",
       "2  62.0    male       2        Q\n",
       "3  27.0    male       3        S\n",
       "4  22.0  female       3        S"
      ]
     },
     "execution_count": 214,
     "metadata": {
      "tags": []
     },
     "output_type": "execute_result"
    }
   ],
   "source": [
    "x_test.head(5)"
   ]
  },
  {
   "cell_type": "code",
   "execution_count": null,
   "metadata": {
    "colab": {
     "base_uri": "https://localhost:8080/",
     "height": 105
    },
    "colab_type": "code",
    "executionInfo": {
     "elapsed": 982,
     "status": "ok",
     "timestamp": 1594552217703,
     "user": {
      "displayName": "dipesh joshi",
      "photoUrl": "https://lh3.googleusercontent.com/a-/AOh14GjUigpEAAOp2xjmr4Tr9br-wQRdqPmGNwgZbK3LgUE=s64",
      "userId": "06750728439165467537"
     },
     "user_tz": -330
    },
    "id": "4mHkZ2-Yja3O",
    "outputId": "aea74047-b440-484c-ec59-f277ea5cc180"
   },
   "outputs": [
    {
     "data": {
      "text/plain": [
       "Age          True\n",
       "Sex         False\n",
       "Pclass      False\n",
       "Embarked    False\n",
       "dtype: bool"
      ]
     },
     "execution_count": 215,
     "metadata": {
      "tags": []
     },
     "output_type": "execute_result"
    }
   ],
   "source": [
    "x_test.isnull().any()"
   ]
  },
  {
   "cell_type": "code",
   "execution_count": null,
   "metadata": {
    "colab": {},
    "colab_type": "code",
    "id": "jCUmQdxwjiHJ"
   },
   "outputs": [],
   "source": [
    "#imputing\n",
    "age_m=x_test.Age.mean()\n",
    "x_test.Age.replace(np.nan,age_m,inplace=True)"
   ]
  },
  {
   "cell_type": "code",
   "execution_count": null,
   "metadata": {
    "colab": {},
    "colab_type": "code",
    "id": "LVm5qRTvjzE6"
   },
   "outputs": [],
   "source": [
    "#encoding\n",
    "x_test.Sex = label_encoder.fit_transform(x_test.Sex)\n",
    "x_test.Embarked = label_encoder.fit_transform(x_test.Embarked)"
   ]
  },
  {
   "cell_type": "code",
   "execution_count": null,
   "metadata": {
    "colab": {
     "base_uri": "https://localhost:8080/",
     "height": 195
    },
    "colab_type": "code",
    "executionInfo": {
     "elapsed": 2081,
     "status": "ok",
     "timestamp": 1594552228140,
     "user": {
      "displayName": "dipesh joshi",
      "photoUrl": "https://lh3.googleusercontent.com/a-/AOh14GjUigpEAAOp2xjmr4Tr9br-wQRdqPmGNwgZbK3LgUE=s64",
      "userId": "06750728439165467537"
     },
     "user_tz": -330
    },
    "id": "3G--xy4YkX8C",
    "outputId": "1c47b598-148b-4d74-b9af-534a72b0e54b"
   },
   "outputs": [
    {
     "data": {
      "text/html": [
       "<div>\n",
       "<style scoped>\n",
       "    .dataframe tbody tr th:only-of-type {\n",
       "        vertical-align: middle;\n",
       "    }\n",
       "\n",
       "    .dataframe tbody tr th {\n",
       "        vertical-align: top;\n",
       "    }\n",
       "\n",
       "    .dataframe thead th {\n",
       "        text-align: right;\n",
       "    }\n",
       "</style>\n",
       "<table border=\"1\" class=\"dataframe\">\n",
       "  <thead>\n",
       "    <tr style=\"text-align: right;\">\n",
       "      <th></th>\n",
       "      <th>Age</th>\n",
       "      <th>Sex</th>\n",
       "      <th>Pclass</th>\n",
       "      <th>Embarked</th>\n",
       "    </tr>\n",
       "  </thead>\n",
       "  <tbody>\n",
       "    <tr>\n",
       "      <th>0</th>\n",
       "      <td>34.5</td>\n",
       "      <td>1</td>\n",
       "      <td>3</td>\n",
       "      <td>1</td>\n",
       "    </tr>\n",
       "    <tr>\n",
       "      <th>1</th>\n",
       "      <td>47.0</td>\n",
       "      <td>0</td>\n",
       "      <td>3</td>\n",
       "      <td>2</td>\n",
       "    </tr>\n",
       "    <tr>\n",
       "      <th>2</th>\n",
       "      <td>62.0</td>\n",
       "      <td>1</td>\n",
       "      <td>2</td>\n",
       "      <td>1</td>\n",
       "    </tr>\n",
       "    <tr>\n",
       "      <th>3</th>\n",
       "      <td>27.0</td>\n",
       "      <td>1</td>\n",
       "      <td>3</td>\n",
       "      <td>2</td>\n",
       "    </tr>\n",
       "    <tr>\n",
       "      <th>4</th>\n",
       "      <td>22.0</td>\n",
       "      <td>0</td>\n",
       "      <td>3</td>\n",
       "      <td>2</td>\n",
       "    </tr>\n",
       "  </tbody>\n",
       "</table>\n",
       "</div>"
      ],
      "text/plain": [
       "    Age  Sex  Pclass  Embarked\n",
       "0  34.5    1       3         1\n",
       "1  47.0    0       3         2\n",
       "2  62.0    1       2         1\n",
       "3  27.0    1       3         2\n",
       "4  22.0    0       3         2"
      ]
     },
     "execution_count": 218,
     "metadata": {
      "tags": []
     },
     "output_type": "execute_result"
    }
   ],
   "source": [
    "x_test.head(5)"
   ]
  },
  {
   "cell_type": "code",
   "execution_count": null,
   "metadata": {
    "colab": {},
    "colab_type": "code",
    "id": "x0_lKKO9kjr3"
   },
   "outputs": [],
   "source": [
    "# FInal Predictions"
   ]
  },
  {
   "cell_type": "code",
   "execution_count": null,
   "metadata": {
    "colab": {},
    "colab_type": "code",
    "id": "Vt1UcnWWkxw6"
   },
   "outputs": [],
   "source": [
    "preds_1=rf_model.predict(x_test)"
   ]
  },
  {
   "cell_type": "code",
   "execution_count": null,
   "metadata": {
    "colab": {},
    "colab_type": "code",
    "id": "cQyz-CrvlXDw"
   },
   "outputs": [],
   "source": [
    "sc_final = StandardScaler()\n",
    "x_test_sc = sc_final.fit_transform(x_test)"
   ]
  },
  {
   "cell_type": "code",
   "execution_count": null,
   "metadata": {
    "colab": {},
    "colab_type": "code",
    "id": "YZx2GxgplEvR"
   },
   "outputs": [],
   "source": []
  },
  {
   "cell_type": "code",
   "execution_count": null,
   "metadata": {
    "colab": {},
    "colab_type": "code",
    "id": "bQo5Zf8clj9X"
   },
   "outputs": [],
   "source": [
    "submission = pd.DataFrame({\n",
    "    'PassengerId': test['PassengerId'],\n",
    "    'Survived': preds_1})"
   ]
  },
  {
   "cell_type": "code",
   "execution_count": null,
   "metadata": {
    "colab": {
     "base_uri": "https://localhost:8080/",
     "height": 402
    },
    "colab_type": "code",
    "executionInfo": {
     "elapsed": 1455,
     "status": "ok",
     "timestamp": 1594550324908,
     "user": {
      "displayName": "dipesh joshi",
      "photoUrl": "https://lh3.googleusercontent.com/a-/AOh14GjUigpEAAOp2xjmr4Tr9br-wQRdqPmGNwgZbK3LgUE=s64",
      "userId": "06750728439165467537"
     },
     "user_tz": -330
    },
    "id": "gRgthdGwmVCG",
    "outputId": "5da33e91-a9f8-4d53-a5d4-c52d431220aa"
   },
   "outputs": [
    {
     "data": {
      "text/html": [
       "<div>\n",
       "<style scoped>\n",
       "    .dataframe tbody tr th:only-of-type {\n",
       "        vertical-align: middle;\n",
       "    }\n",
       "\n",
       "    .dataframe tbody tr th {\n",
       "        vertical-align: top;\n",
       "    }\n",
       "\n",
       "    .dataframe thead th {\n",
       "        text-align: right;\n",
       "    }\n",
       "</style>\n",
       "<table border=\"1\" class=\"dataframe\">\n",
       "  <thead>\n",
       "    <tr style=\"text-align: right;\">\n",
       "      <th></th>\n",
       "      <th>PassengerId</th>\n",
       "      <th>Survived</th>\n",
       "    </tr>\n",
       "  </thead>\n",
       "  <tbody>\n",
       "    <tr>\n",
       "      <th>0</th>\n",
       "      <td>892</td>\n",
       "      <td>0.006536</td>\n",
       "    </tr>\n",
       "    <tr>\n",
       "      <th>1</th>\n",
       "      <td>893</td>\n",
       "      <td>0.000000</td>\n",
       "    </tr>\n",
       "    <tr>\n",
       "      <th>2</th>\n",
       "      <td>894</td>\n",
       "      <td>0.000000</td>\n",
       "    </tr>\n",
       "    <tr>\n",
       "      <th>3</th>\n",
       "      <td>895</td>\n",
       "      <td>0.539122</td>\n",
       "    </tr>\n",
       "    <tr>\n",
       "      <th>4</th>\n",
       "      <td>896</td>\n",
       "      <td>0.631046</td>\n",
       "    </tr>\n",
       "    <tr>\n",
       "      <th>...</th>\n",
       "      <td>...</td>\n",
       "      <td>...</td>\n",
       "    </tr>\n",
       "    <tr>\n",
       "      <th>413</th>\n",
       "      <td>1305</td>\n",
       "      <td>0.037543</td>\n",
       "    </tr>\n",
       "    <tr>\n",
       "      <th>414</th>\n",
       "      <td>1306</td>\n",
       "      <td>1.000000</td>\n",
       "    </tr>\n",
       "    <tr>\n",
       "      <th>415</th>\n",
       "      <td>1307</td>\n",
       "      <td>0.019608</td>\n",
       "    </tr>\n",
       "    <tr>\n",
       "      <th>416</th>\n",
       "      <td>1308</td>\n",
       "      <td>0.037543</td>\n",
       "    </tr>\n",
       "    <tr>\n",
       "      <th>417</th>\n",
       "      <td>1309</td>\n",
       "      <td>0.010124</td>\n",
       "    </tr>\n",
       "  </tbody>\n",
       "</table>\n",
       "<p>418 rows × 2 columns</p>\n",
       "</div>"
      ],
      "text/plain": [
       "     PassengerId  Survived\n",
       "0            892  0.006536\n",
       "1            893  0.000000\n",
       "2            894  0.000000\n",
       "3            895  0.539122\n",
       "4            896  0.631046\n",
       "..           ...       ...\n",
       "413         1305  0.037543\n",
       "414         1306  1.000000\n",
       "415         1307  0.019608\n",
       "416         1308  0.037543\n",
       "417         1309  0.010124\n",
       "\n",
       "[418 rows x 2 columns]"
      ]
     },
     "execution_count": 166,
     "metadata": {
      "tags": []
     },
     "output_type": "execute_result"
    }
   ],
   "source": [
    "submission"
   ]
  },
  {
   "cell_type": "code",
   "execution_count": null,
   "metadata": {
    "colab": {},
    "colab_type": "code",
    "id": "ufXIKpwSmXHW"
   },
   "outputs": [],
   "source": [
    "# Attempt 3\n",
    "# Using RandomForestClassifier"
   ]
  },
  {
   "cell_type": "code",
   "execution_count": null,
   "metadata": {
    "colab": {
     "base_uri": "https://localhost:8080/",
     "height": 34
    },
    "colab_type": "code",
    "executionInfo": {
     "elapsed": 2556,
     "status": "ok",
     "timestamp": 1594550982677,
     "user": {
      "displayName": "dipesh joshi",
      "photoUrl": "https://lh3.googleusercontent.com/a-/AOh14GjUigpEAAOp2xjmr4Tr9br-wQRdqPmGNwgZbK3LgUE=s64",
      "userId": "06750728439165467537"
     },
     "user_tz": -330
    },
    "id": "MF2JDbgKoZib",
    "outputId": "57132877-767d-495b-9853-4323702c66c3"
   },
   "outputs": [
    {
     "data": {
      "text/plain": [
       "0.2600896860986547"
      ]
     },
     "execution_count": 173,
     "metadata": {
      "tags": []
     },
     "output_type": "execute_result"
    }
   ],
   "source": [
    "from sklearn.ensemble import RandomForestClassifier\n",
    "rfc_model = RandomForestClassifier(n_estimators=51,random_state=1)\n",
    "score(rfc_model)"
   ]
  },
  {
   "cell_type": "code",
   "execution_count": null,
   "metadata": {
    "colab": {
     "base_uri": "https://localhost:8080/",
     "height": 158
    },
    "colab_type": "code",
    "executionInfo": {
     "elapsed": 1576,
     "status": "ok",
     "timestamp": 1594551117869,
     "user": {
      "displayName": "dipesh joshi",
      "photoUrl": "https://lh3.googleusercontent.com/a-/AOh14GjUigpEAAOp2xjmr4Tr9br-wQRdqPmGNwgZbK3LgUE=s64",
      "userId": "06750728439165467537"
     },
     "user_tz": -330
    },
    "id": "wbB_nBMCookS",
    "outputId": "5d4e78f3-5bf6-47e5-89da-404aaee28354"
   },
   "outputs": [
    {
     "data": {
      "text/plain": [
       "RandomForestClassifier(bootstrap=True, ccp_alpha=0.0, class_weight=None,\n",
       "                       criterion='gini', max_depth=None, max_features='auto',\n",
       "                       max_leaf_nodes=None, max_samples=None,\n",
       "                       min_impurity_decrease=0.0, min_impurity_split=None,\n",
       "                       min_samples_leaf=1, min_samples_split=2,\n",
       "                       min_weight_fraction_leaf=0.0, n_estimators=51,\n",
       "                       n_jobs=None, oob_score=False, random_state=1, verbose=0,\n",
       "                       warm_start=False)"
      ]
     },
     "execution_count": 177,
     "metadata": {
      "tags": []
     },
     "output_type": "execute_result"
    }
   ],
   "source": [
    "rfc_final = RandomForestClassifier(n_estimators=51,random_state=1)\n",
    "rfc_final.fit(X,y)"
   ]
  },
  {
   "cell_type": "code",
   "execution_count": null,
   "metadata": {
    "colab": {},
    "colab_type": "code",
    "id": "Fn3kkBXbpjhz"
   },
   "outputs": [],
   "source": [
    "preds = rfc_final.predict(x_test)\n",
    "submission2 = pd.DataFrame({\n",
    "    'PassengerId': test['PassengerId'],\n",
    "    'Survived': preds})"
   ]
  },
  {
   "cell_type": "code",
   "execution_count": null,
   "metadata": {
    "colab": {},
    "colab_type": "code",
    "id": "52uSwDaJpsFj"
   },
   "outputs": [],
   "source": [
    "submission2.to_csv('my_submission_2.csv',index=False)"
   ]
  },
  {
   "cell_type": "code",
   "execution_count": null,
   "metadata": {
    "colab": {},
    "colab_type": "code",
    "id": "9loS1fQEr1f4"
   },
   "outputs": [],
   "source": [
    "# Attempt 4 By Scaling Data"
   ]
  },
  {
   "cell_type": "code",
   "execution_count": null,
   "metadata": {
    "colab": {},
    "colab_type": "code",
    "id": "bE0uKg4jr5wF"
   },
   "outputs": [],
   "source": [
    "scaler = StandardScaler()\n",
    "X_sc = scaler.fit_transform(X)"
   ]
  },
  {
   "cell_type": "code",
   "execution_count": null,
   "metadata": {
    "colab": {},
    "colab_type": "code",
    "id": "I9UXQzlusaO7"
   },
   "outputs": [],
   "source": [
    "x_train_sc,x_val_sc,y_train_sc,y_val_sc = train_test_split(X_sc,y,random_state=1)"
   ]
  },
  {
   "cell_type": "code",
   "execution_count": null,
   "metadata": {
    "colab": {
     "base_uri": "https://localhost:8080/",
     "height": 158
    },
    "colab_type": "code",
    "executionInfo": {
     "elapsed": 3145,
     "status": "ok",
     "timestamp": 1594552265391,
     "user": {
      "displayName": "dipesh joshi",
      "photoUrl": "https://lh3.googleusercontent.com/a-/AOh14GjUigpEAAOp2xjmr4Tr9br-wQRdqPmGNwgZbK3LgUE=s64",
      "userId": "06750728439165467537"
     },
     "user_tz": -330
    },
    "id": "8vSfItuHsaPp",
    "outputId": "7e59d733-3080-4740-f6f9-83d9b6ee4081"
   },
   "outputs": [
    {
     "data": {
      "text/plain": [
       "RandomForestClassifier(bootstrap=True, ccp_alpha=0.0, class_weight=None,\n",
       "                       criterion='gini', max_depth=None, max_features='auto',\n",
       "                       max_leaf_nodes=75, max_samples=None,\n",
       "                       min_impurity_decrease=0.0, min_impurity_split=None,\n",
       "                       min_samples_leaf=1, min_samples_split=2,\n",
       "                       min_weight_fraction_leaf=0.0, n_estimators=100,\n",
       "                       n_jobs=None, oob_score=False, random_state=1, verbose=0,\n",
       "                       warm_start=False)"
      ]
     },
     "execution_count": 222,
     "metadata": {
      "tags": []
     },
     "output_type": "execute_result"
    }
   ],
   "source": [
    "rfc_sc = RandomForestClassifier(max_leaf_nodes=75,random_state=1)\n",
    "score(rfc_sc,x_train_sc,x_val_sc,y_train_sc,y_val_sc)\n",
    "rfc_sc.fit(X_sc,y)"
   ]
  },
  {
   "cell_type": "code",
   "execution_count": null,
   "metadata": {
    "colab": {
     "base_uri": "https://localhost:8080/",
     "height": 34
    },
    "colab_type": "code",
    "executionInfo": {
     "elapsed": 1705,
     "status": "ok",
     "timestamp": 1594552273381,
     "user": {
      "displayName": "dipesh joshi",
      "photoUrl": "https://lh3.googleusercontent.com/a-/AOh14GjUigpEAAOp2xjmr4Tr9br-wQRdqPmGNwgZbK3LgUE=s64",
      "userId": "06750728439165467537"
     },
     "user_tz": -330
    },
    "id": "XmT_UcCCsaP_",
    "outputId": "8923eeb6-7756-4d04-8cda-6327734455bc"
   },
   "outputs": [
    {
     "data": {
      "text/plain": [
       "0.2726814668396195"
      ]
     },
     "execution_count": 223,
     "metadata": {
      "tags": []
     },
     "output_type": "execute_result"
    }
   ],
   "source": [
    "rf_model_sc = RandomForestRegressor(n_estimators=51,random_state=1)\n",
    "score(rf_model_sc,x_train_sc,x_val_sc,y_train_sc,y_val_sc)"
   ]
  },
  {
   "cell_type": "code",
   "execution_count": null,
   "metadata": {
    "colab": {},
    "colab_type": "code",
    "id": "54KFjL2zsaQZ"
   },
   "outputs": [],
   "source": [
    "sc_final = StandardScaler()\n",
    "x_test_sc = sc_final.fit_transform(x_test)"
   ]
  },
  {
   "cell_type": "code",
   "execution_count": null,
   "metadata": {
    "colab": {},
    "colab_type": "code",
    "id": "q6wMjWJ7s457"
   },
   "outputs": [],
   "source": [
    "preds_3 = rfc_sc.predict(x_test_sc)"
   ]
  },
  {
   "cell_type": "code",
   "execution_count": null,
   "metadata": {
    "colab": {
     "base_uri": "https://localhost:8080/",
     "height": 402
    },
    "colab_type": "code",
    "executionInfo": {
     "elapsed": 2019,
     "status": "ok",
     "timestamp": 1594552471819,
     "user": {
      "displayName": "dipesh joshi",
      "photoUrl": "https://lh3.googleusercontent.com/a-/AOh14GjUigpEAAOp2xjmr4Tr9br-wQRdqPmGNwgZbK3LgUE=s64",
      "userId": "06750728439165467537"
     },
     "user_tz": -330
    },
    "id": "bRrnXkhNuUon",
    "outputId": "313bbe87-d294-4e29-fccd-c2b1188ff817"
   },
   "outputs": [
    {
     "data": {
      "text/html": [
       "<div>\n",
       "<style scoped>\n",
       "    .dataframe tbody tr th:only-of-type {\n",
       "        vertical-align: middle;\n",
       "    }\n",
       "\n",
       "    .dataframe tbody tr th {\n",
       "        vertical-align: top;\n",
       "    }\n",
       "\n",
       "    .dataframe thead th {\n",
       "        text-align: right;\n",
       "    }\n",
       "</style>\n",
       "<table border=\"1\" class=\"dataframe\">\n",
       "  <thead>\n",
       "    <tr style=\"text-align: right;\">\n",
       "      <th></th>\n",
       "      <th>PassengerId</th>\n",
       "      <th>Survived</th>\n",
       "    </tr>\n",
       "  </thead>\n",
       "  <tbody>\n",
       "    <tr>\n",
       "      <th>0</th>\n",
       "      <td>892</td>\n",
       "      <td>0</td>\n",
       "    </tr>\n",
       "    <tr>\n",
       "      <th>1</th>\n",
       "      <td>893</td>\n",
       "      <td>0</td>\n",
       "    </tr>\n",
       "    <tr>\n",
       "      <th>2</th>\n",
       "      <td>894</td>\n",
       "      <td>0</td>\n",
       "    </tr>\n",
       "    <tr>\n",
       "      <th>3</th>\n",
       "      <td>895</td>\n",
       "      <td>0</td>\n",
       "    </tr>\n",
       "    <tr>\n",
       "      <th>4</th>\n",
       "      <td>896</td>\n",
       "      <td>0</td>\n",
       "    </tr>\n",
       "    <tr>\n",
       "      <th>...</th>\n",
       "      <td>...</td>\n",
       "      <td>...</td>\n",
       "    </tr>\n",
       "    <tr>\n",
       "      <th>413</th>\n",
       "      <td>1305</td>\n",
       "      <td>0</td>\n",
       "    </tr>\n",
       "    <tr>\n",
       "      <th>414</th>\n",
       "      <td>1306</td>\n",
       "      <td>1</td>\n",
       "    </tr>\n",
       "    <tr>\n",
       "      <th>415</th>\n",
       "      <td>1307</td>\n",
       "      <td>0</td>\n",
       "    </tr>\n",
       "    <tr>\n",
       "      <th>416</th>\n",
       "      <td>1308</td>\n",
       "      <td>0</td>\n",
       "    </tr>\n",
       "    <tr>\n",
       "      <th>417</th>\n",
       "      <td>1309</td>\n",
       "      <td>0</td>\n",
       "    </tr>\n",
       "  </tbody>\n",
       "</table>\n",
       "<p>418 rows × 2 columns</p>\n",
       "</div>"
      ],
      "text/plain": [
       "     PassengerId  Survived\n",
       "0            892         0\n",
       "1            893         0\n",
       "2            894         0\n",
       "3            895         0\n",
       "4            896         0\n",
       "..           ...       ...\n",
       "413         1305         0\n",
       "414         1306         1\n",
       "415         1307         0\n",
       "416         1308         0\n",
       "417         1309         0\n",
       "\n",
       "[418 rows x 2 columns]"
      ]
     },
     "execution_count": 231,
     "metadata": {
      "tags": []
     },
     "output_type": "execute_result"
    }
   ],
   "source": [
    "submission3 = pd.DataFrame({\n",
    "    'PassengerId': test['PassengerId'],\n",
    "    'Survived': preds_3})\n",
    "submission3"
   ]
  },
  {
   "cell_type": "code",
   "execution_count": null,
   "metadata": {
    "colab": {},
    "colab_type": "code",
    "id": "ySTVpoNSuf0c"
   },
   "outputs": [],
   "source": [
    "submission3.to_csv(\"my_submission_3.csv\",index=False)"
   ]
  },
  {
   "cell_type": "code",
   "execution_count": 1,
   "metadata": {
    "colab": {},
    "colab_type": "code",
    "executionInfo": {
     "elapsed": 3733,
     "status": "ok",
     "timestamp": 1594887985901,
     "user": {
      "displayName": "dipesh joshi",
      "photoUrl": "https://lh3.googleusercontent.com/a-/AOh14GjUigpEAAOp2xjmr4Tr9br-wQRdqPmGNwgZbK3LgUE=s64",
      "userId": "06750728439165467537"
     },
     "user_tz": -330
    },
    "id": "Md4tRKbSuwO9"
   },
   "outputs": [],
   "source": [
    "from sklearn.impute import SimpleImputer"
   ]
  },
  {
   "cell_type": "code",
   "execution_count": 2,
   "metadata": {
    "colab": {},
    "colab_type": "code",
    "executionInfo": {
     "elapsed": 3325,
     "status": "ok",
     "timestamp": 1594888146265,
     "user": {
      "displayName": "dipesh joshi",
      "photoUrl": "https://lh3.googleusercontent.com/a-/AOh14GjUigpEAAOp2xjmr4Tr9br-wQRdqPmGNwgZbK3LgUE=s64",
      "userId": "06750728439165467537"
     },
     "user_tz": -330
    },
    "id": "cJeVRs6DuudP"
   },
   "outputs": [],
   "source": [
    "from sklearn.metrics import mean_squared_error"
   ]
  },
  {
   "cell_type": "code",
   "execution_count": null,
   "metadata": {
    "colab": {},
    "colab_type": "code",
    "id": "7mi7jpZ2vb6-"
   },
   "outputs": [],
   "source": []
  }
 ],
 "metadata": {
  "colab": {
   "authorship_tag": "ABX9TyOyOWLe99tWGomJ6DQtopu/",
   "collapsed_sections": [],
   "mount_file_id": "17AW6SnvydYyQSR2daAWcXNqTco62zJoE",
   "name": "Titanic_Workground.ipynb",
   "provenance": []
  },
  "kernelspec": {
   "display_name": "Python 3",
   "language": "python",
   "name": "python3"
  },
  "language_info": {
   "codemirror_mode": {
    "name": "ipython",
    "version": 3
   },
   "file_extension": ".py",
   "mimetype": "text/x-python",
   "name": "python",
   "nbconvert_exporter": "python",
   "pygments_lexer": "ipython3",
   "version": "3.7.4"
  }
 },
 "nbformat": 4,
 "nbformat_minor": 1
}
